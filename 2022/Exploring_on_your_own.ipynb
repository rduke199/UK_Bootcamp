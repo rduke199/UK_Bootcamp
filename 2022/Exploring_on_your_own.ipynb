{
  "nbformat": 4,
  "nbformat_minor": 0,
  "metadata": {
    "colab": {
      "provenance": [],
      "authorship_tag": "ABX9TyNqfbW9vHQqRDNgJCew7Y9V",
      "include_colab_link": true
    },
    "kernelspec": {
      "name": "python3",
      "display_name": "Python 3"
    },
    "language_info": {
      "name": "python"
    }
  },
  "cells": [
    {
      "cell_type": "markdown",
      "metadata": {
        "id": "view-in-github",
        "colab_type": "text"
      },
      "source": [
        "<a href=\"https://colab.research.google.com/github/vinayak2019/UK_Bootcamp/blob/main/Exploring_on_your_own.ipynb\" target=\"_parent\"><img src=\"https://colab.research.google.com/assets/colab-badge.svg\" alt=\"Open In Colab\"/></a>"
      ]
    },
    {
      "cell_type": "markdown",
      "source": [
        "Here you will start from scratch. You target is to create wordcloud with python.\n",
        "\n",
        "How I would proceed?\n",
        "\n",
        "\n",
        "1.   Google search what you want to achieve\n",
        "2.   Find the python pacakage that does it\n",
        "3. Look at the example code or tutorial and see whether it is what you want to do.\n",
        "4. If it does, look at how to install. Installing with pip is the easiest.\n",
        "\n"
      ],
      "metadata": {
        "id": "x3Pf1rfbMVN7"
      }
    },
    {
      "cell_type": "code",
      "execution_count": null,
      "metadata": {
        "id": "z3t6LHlBMQAz"
      },
      "outputs": [],
      "source": [
        "# example installing seaborn, a package for plotting\n",
        "# https://seaborn.pydata.org/installing.html\n",
        "! pip install seaborn"
      ]
    },
    {
      "cell_type": "markdown",
      "source": [
        "Look into what a function needs as arguments by hovering over the text"
      ],
      "metadata": {
        "id": "hcmpYufJO5pU"
      }
    },
    {
      "cell_type": "code",
      "source": [
        "import seaborn as sns\n",
        "\n",
        "sns.scatterplot()"
      ],
      "metadata": {
        "id": "VGp8ItbkNVnH"
      },
      "execution_count": null,
      "outputs": []
    }
  ]
}
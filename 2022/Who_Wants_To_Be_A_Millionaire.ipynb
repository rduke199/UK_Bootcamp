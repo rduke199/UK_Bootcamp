{
  "nbformat": 4,
  "nbformat_minor": 0,
  "metadata": {
    "colab": {
      "provenance": [],
      "collapsed_sections": [],
      "authorship_tag": "ABX9TyM2ALW7mZ1Cfpqw8SAelv/v",
      "include_colab_link": true
    },
    "kernelspec": {
      "name": "python3",
      "display_name": "Python 3"
    },
    "language_info": {
      "name": "python"
    }
  },
  "cells": [
    {
      "cell_type": "markdown",
      "metadata": {
        "id": "view-in-github",
        "colab_type": "text"
      },
      "source": [
        "<a href=\"https://colab.research.google.com/github/vinayak2019/UK_Bootcamp/blob/main/Who_Wants_To_Be_A_Millionaire.ipynb\" target=\"_parent\"><img src=\"https://colab.research.google.com/assets/colab-badge.svg\" alt=\"Open In Colab\"/></a>"
      ]
    },
    {
      "cell_type": "code",
      "execution_count": null,
      "metadata": {
        "id": "kaLRkiV4TPW4"
      },
      "outputs": [],
      "source": [
        "# Use print to display messages or questions\n",
        "print(\"Welcome to Who Wants To Be A Millionare\")\n",
        "\n",
        "# Use \\n for text to appear on next line\n",
        "print(\"Welcome to \\n Who Wants To Be A Millionare\")"
      ]
    },
    {
      "cell_type": "markdown",
      "source": [
        "Let's say you want to get a repsonse from the player. You can use the input function.\n",
        "\n",
        "The syntax is -\n",
        "input(*prompt*)\n",
        "\n",
        "where prompt is some text of type str. The prompt is not required"
      ],
      "metadata": {
        "id": "nfKpUdeCVKYR"
      }
    },
    {
      "cell_type": "code",
      "source": [
        "input()"
      ],
      "metadata": {
        "id": "TrDTrbV1Vn2s"
      },
      "execution_count": null,
      "outputs": []
    },
    {
      "cell_type": "code",
      "source": [
        "input(\"Type something\")"
      ],
      "metadata": {
        "id": "gbBdc0l2VuJ3"
      },
      "execution_count": null,
      "outputs": []
    },
    {
      "cell_type": "code",
      "source": [
        "# To get input from user use the input function\n",
        "# To store the input always assign a variable\n",
        "name = input(\"What is your name?\\n\")\n",
        "\n",
        "# to include variables in printing, use coma between text and variable.\n",
        "# Always use quotes for text and not for a variable\n",
        "print(\"Thank you\",name,\"for playing this game!\")"
      ],
      "metadata": {
        "id": "ANp08wyoUogf"
      },
      "execution_count": null,
      "outputs": []
    },
    {
      "cell_type": "code",
      "source": [
        "# Asking questions and getting response and checking for correct answer\n",
        "\n",
        "# Asking question\n",
        "print(\"Where is University of Kentucky?\")\n",
        "print(\"A. Louisville\")\n",
        "print(\"B. Lexington\")\n",
        "print(\"C. Richmond\")\n",
        "print(\"D. Louisville\")\n",
        "\n",
        "# Getting response\n",
        "answer = input(\"Your answer: \")\n",
        "\n",
        "# Checking the response with your correct answer\n",
        "if answer == \"B\":\n",
        "  print(\"Correct! You have won $1000!!\")\n",
        "else:\n",
        "  print(\"Incorrect. Thank you for playing\")"
      ],
      "metadata": {
        "id": "Pp5uZMDpTqv-"
      },
      "execution_count": null,
      "outputs": []
    },
    {
      "cell_type": "markdown",
      "source": [
        "If the answer is incorrect and you may want the player to quit playing. You will need to use *break* command to end the game"
      ],
      "metadata": {
        "id": "XCbTubpYXP7J"
      }
    },
    {
      "cell_type": "code",
      "source": [
        "# Asking question\n",
        "print(\"----Your first questiion for $1000 is --- \")\n",
        "print(\"Where is University of Kentucky?\")\n",
        "print(\"A. Louisville\")\n",
        "print(\"B. Lexington\")\n",
        "print(\"C. Richmond\")\n",
        "print(\"D. Louisville\")\n",
        "\n",
        "# Getting response\n",
        "answer = input(\"Your answer: \")\n",
        "\n",
        "# Checking the response with your correct answer\n",
        "if answer == \"B\":\n",
        "  print(\"Correct! You have won $1000!! \\n\")\n",
        "else:\n",
        "  print(\"Incorrect. Thank you for playing \\n\")\n",
        "\n",
        "# Asking question\n",
        "print(\"----Your second questiion is --- \")\n",
        "print(\"Where is University of Louisville?\")\n",
        "print(\"A. Louisville\")\n",
        "print(\"B. Lexington\")\n",
        "print(\"C. Richmond\")\n",
        "print(\"D. Louisville\")\n",
        "\n",
        "# Getting response\n",
        "answer = input(\"Your answer: \")\n",
        "\n",
        "# Checking the response with your correct answer\n",
        "if answer == \"A\":\n",
        "  print(\"Correct! You have won $5000!!\")\n",
        "else:\n",
        "  print(\"Incorrect. Thank you for playing\")"
      ],
      "metadata": {
        "id": "zWuDxQihWmWI"
      },
      "execution_count": null,
      "outputs": []
    },
    {
      "cell_type": "markdown",
      "source": [
        "Here is the correct code"
      ],
      "metadata": {
        "id": "_Ac59jFwYHYd"
      }
    },
    {
      "cell_type": "code",
      "source": [
        "# import exit from sys\n",
        "from sys import exit\n",
        "\n",
        "\n",
        "# Asking question\n",
        "print(\"----Your first questiion for $1000 is --- \")\n",
        "print(\"Where is University of Kentucky?\")\n",
        "print(\"A. Louisville\")\n",
        "print(\"B. Lexington\")\n",
        "print(\"C. Richmond\")\n",
        "print(\"D. Louisville\")\n",
        "\n",
        "# Getting response\n",
        "answer = input(\"Your answer: \")\n",
        "\n",
        "# Checking the response with your correct answer\n",
        "if answer == \"B\":\n",
        "  print(\"Correct! You have won $1000!! \\n\")\n",
        "else:\n",
        "  print(\"Incorrect. Thank you for playing \\n\")\n",
        "\n",
        "  # Use this to exit\n",
        "  exit(0)\n",
        "\n",
        "# Asking question\n",
        "print(\"----Your second questiion is --- \")\n",
        "print(\"Where is University of Louisville?\")\n",
        "print(\"A. Louisville\")\n",
        "print(\"B. Lexington\")\n",
        "print(\"C. Richmond\")\n",
        "print(\"D. Louisville\")\n",
        "\n",
        "# Getting response\n",
        "answer = input(\"Your answer: \")\n",
        "\n",
        "# Checking the response with your correct answer\n",
        "if answer == \"A\":\n",
        "  print(\"Correct! You have won $5000!!\")\n",
        "else:\n",
        "  print(\"Incorrect. Thank you for playing\")"
      ],
      "metadata": {
        "id": "M_DG8XBfXvs-"
      },
      "execution_count": null,
      "outputs": []
    },
    {
      "cell_type": "markdown",
      "source": [
        "#Mini project\n",
        "\n",
        "Create a 'Who Wants To Be A Millionaire' game with 10 question. Ask people at your table play the game and be a millionare!"
      ],
      "metadata": {
        "id": "5t1Wj3EEZu1I"
      }
    },
    {
      "cell_type": "code",
      "source": [],
      "metadata": {
        "id": "8EygLk8caQCR"
      },
      "execution_count": null,
      "outputs": []
    }
  ]
}
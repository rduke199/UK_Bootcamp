{
  "nbformat": 4,
  "nbformat_minor": 0,
  "metadata": {
    "colab": {
      "provenance": [],
      "authorship_tag": "ABX9TyOSdx1jEwKDz4gjj/iTsi5P",
      "include_colab_link": true
    },
    "kernelspec": {
      "name": "python3",
      "display_name": "Python 3"
    },
    "language_info": {
      "name": "python"
    }
  },
  "cells": [
    {
      "cell_type": "markdown",
      "metadata": {
        "id": "view-in-github",
        "colab_type": "text"
      },
      "source": [
        "<a href=\"https://colab.research.google.com/github/vinayak2019/UK_Bootcamp/blob/main/More_Data_Analysis.ipynb\" target=\"_parent\"><img src=\"https://colab.research.google.com/assets/colab-badge.svg\" alt=\"Open In Colab\"/></a>"
      ]
    },
    {
      "cell_type": "markdown",
      "source": [
        "In this mini-project, you will do more complex data analyis with pandas. You use the historical stockmarket data for Tesla. With the yearly data, you will get monthly data statistics - mean, standard deviation. Some hints are provided, but you are encoraged to google search and use stackoverflow.\n",
        "\n",
        "For beginners, it is suggested to start with getting the mean stock value for each date and the proceed to each month, or week."
      ],
      "metadata": {
        "id": "shypEAHXCiR-"
      }
    },
    {
      "cell_type": "code",
      "execution_count": null,
      "metadata": {
        "id": "_aGeAWwcBXLd"
      },
      "outputs": [],
      "source": [
        "# Get sample data for plotting\n",
        "! git clone https://github.com/vinayak2019/UK_Bootcamp.git"
      ]
    },
    {
      "cell_type": "code",
      "source": [
        "# read the data from the csv file into pandas dataframe\n",
        "import pandas as pd\n",
        "\n",
        "df = pd.read_csv(\"UK_Bootcamp/TSLA.csv\")\n",
        "df.head()"
      ],
      "metadata": {
        "id": "U174E96NDQ4X"
      },
      "execution_count": null,
      "outputs": []
    },
    {
      "cell_type": "markdown",
      "source": [
        "Similar to arithmetic operation on intergers and float variables, those operation can be done on dataframe.\n",
        "\n",
        "In the example below, we divide the the Close value by 10."
      ],
      "metadata": {
        "id": "_6LckKGIEDdm"
      }
    },
    {
      "cell_type": "code",
      "source": [
        "df[\"Close\"] / 10"
      ],
      "metadata": {
        "id": "ej7gZoUPEDCR"
      },
      "execution_count": null,
      "outputs": []
    },
    {
      "cell_type": "markdown",
      "source": [
        "After an operation, the resultant values can be added back to the dataframe as column. Here we will add the Close value divided by 10 to a new column called Close_Scaled"
      ],
      "metadata": {
        "id": "dSYrOdd4EjGy"
      }
    },
    {
      "cell_type": "code",
      "source": [
        "df[\"Close_Scale\"] = df[\"Close\"] / 10\n",
        "df.head()"
      ],
      "metadata": {
        "id": "_fwkQ39mE2Jy"
      },
      "execution_count": null,
      "outputs": []
    },
    {
      "cell_type": "markdown",
      "source": [
        "You can also apply any function with the *apply* method."
      ],
      "metadata": {
        "id": "H0Tf26FBI4Qc"
      }
    },
    {
      "cell_type": "code",
      "source": [
        "def scale(x):\n",
        "  return x / 10\n",
        "\n",
        "df[\"Close\"].apply(scale)"
      ],
      "metadata": {
        "id": "7RFnqcu4I3b7"
      },
      "execution_count": null,
      "outputs": []
    },
    {
      "cell_type": "markdown",
      "source": [
        "Using *describe* method to give statistics on columns or dataframe"
      ],
      "metadata": {
        "id": "AWhA8vybGstX"
      }
    },
    {
      "cell_type": "code",
      "source": [
        "df[\"Open\"].describe()"
      ],
      "metadata": {
        "id": "5LhHgf4hGqcJ"
      },
      "execution_count": null,
      "outputs": []
    },
    {
      "cell_type": "markdown",
      "source": [
        "Pandas has in-built way to understand dates."
      ],
      "metadata": {
        "id": "aLR1bcrNIqMI"
      }
    },
    {
      "cell_type": "code",
      "source": [
        "df[\"Datetime\"] = df[\"Date\"].apply(pd.to_datetime)\n",
        "df.head()"
      ],
      "metadata": {
        "id": "1Wbt1ea1IoB2"
      },
      "execution_count": null,
      "outputs": []
    },
    {
      "cell_type": "markdown",
      "source": [
        "Though both Date and Datetime look alike, they are different. You can get month with *month* method"
      ],
      "metadata": {
        "id": "wNFB53lxJ49A"
      }
    },
    {
      "cell_type": "code",
      "source": [
        "def month(x):\n",
        "  return x.month\n",
        "\n",
        "df[\"Datetime\"].apply(month)"
      ],
      "metadata": {
        "id": "ImNF8gYMJXW3"
      },
      "execution_count": null,
      "outputs": []
    },
    {
      "cell_type": "code",
      "source": [
        "# the above approach fails on Date column\n",
        "df[\"Date\"].apply(month)"
      ],
      "metadata": {
        "id": "mSSDWznLJcsP"
      },
      "execution_count": null,
      "outputs": []
    },
    {
      "cell_type": "markdown",
      "source": [
        "Try using *describe* for any month of your choice.\n",
        "\n",
        "Hint: Use groupby on Datetime"
      ],
      "metadata": {
        "id": "BKqbZyHrKgS0"
      }
    },
    {
      "cell_type": "code",
      "source": [
        "# YOUR CODE"
      ],
      "metadata": {
        "id": "VcFVlMsmKSPx"
      },
      "execution_count": null,
      "outputs": []
    },
    {
      "cell_type": "markdown",
      "source": [
        "Other methods to look for is aggregrate. You can find more from the documentation for pandas https://pandas.pydata.org/docs/index.html"
      ],
      "metadata": {
        "id": "Y4sKbLLDK3tb"
      }
    }
  ]
}
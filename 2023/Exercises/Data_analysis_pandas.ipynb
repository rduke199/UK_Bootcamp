{
  "nbformat": 4,
  "nbformat_minor": 0,
  "metadata": {
    "colab": {
      "provenance": [],
      "authorship_tag": "ABX9TyOkq3WjVCZdei0LSYk2eq7a",
      "include_colab_link": true
    },
    "kernelspec": {
      "name": "python3",
      "display_name": "Python 3"
    },
    "language_info": {
      "name": "python"
    }
  },
  "cells": [
    {
      "cell_type": "markdown",
      "metadata": {
        "id": "view-in-github",
        "colab_type": "text"
      },
      "source": [
        "<a href=\"https://colab.research.google.com/github/vinayak2019/UK_Bootcamp/blob/main/2023/Exercises/Data_analysis_pandas.ipynb\" target=\"_parent\"><img src=\"https://colab.research.google.com/assets/colab-badge.svg\" alt=\"Open In Colab\"/></a>"
      ]
    },
    {
      "cell_type": "markdown",
      "source": [
        "#**Pandas DataFrame**\n",
        "\n",
        "The pandas DataFrame is a table - it has rows with index and columns with headers. Each column is a pandas.Series object The required columnar data can be accessed with dot notation or subscripting. The row data can be accessed with iloc or loc method.\n"
      ],
      "metadata": {
        "id": "Q4gaTsyclQME"
      }
    },
    {
      "cell_type": "code",
      "source": [
        "# Let's import the package\n",
        "import pandas as pd"
      ],
      "metadata": {
        "id": "NvQdT0jxmM5R"
      },
      "execution_count": null,
      "outputs": []
    },
    {
      "cell_type": "markdown",
      "source": [
        "## **Importing Comma Separated Files (CSV)**\n",
        "\n",
        "We will use the *read_csv* function from pandas to read a CSV file. You can even read Excel file and other formats"
      ],
      "metadata": {
        "id": "yJiS65fglfRv"
      }
    },
    {
      "cell_type": "code",
      "source": [
        "# get the CSV file\n",
        "! wget https://raw.githubusercontent.com/vinayak2019/UK_Bootcamp/main/2023/Exercises/UK_Bootcamp.csv"
      ],
      "metadata": {
        "id": "k8dYjRtHl4Of"
      },
      "execution_count": null,
      "outputs": []
    },
    {
      "cell_type": "code",
      "execution_count": null,
      "metadata": {
        "id": "ltMLsSRHk7ej"
      },
      "outputs": [],
      "source": [
        "# Read the CSV file\n",
        "df = pd.read_csv(\"UK_Bootcamp.csv\")\n",
        "\n",
        "# Look at the first 5 entries with 'head' method\n",
        "df.head()"
      ]
    },
    {
      "cell_type": "markdown",
      "source": [
        "## **Data analysis**"
      ],
      "metadata": {
        "id": "oE-WVeTTmmDt"
      }
    },
    {
      "cell_type": "code",
      "source": [
        "# Take a look at all the column names with columns method\n",
        "df.columns"
      ],
      "metadata": {
        "id": "yc0LiRfXmKFP"
      },
      "execution_count": null,
      "outputs": []
    },
    {
      "cell_type": "code",
      "source": [
        "# Get the column with Education and save it to education\n",
        "education = df[\"Education\"]\n",
        "education"
      ],
      "metadata": {
        "id": "JJvV3fAym2NV"
      },
      "execution_count": null,
      "outputs": []
    },
    {
      "cell_type": "markdown",
      "source": [
        "We have some missing values - NaN. Let's remove those values with dropna\n",
        "\n"
      ],
      "metadata": {
        "id": "0uKsMKfsnb-P"
      }
    },
    {
      "cell_type": "code",
      "source": [
        "# Drop the rows with NaN in atomic_radius column\n",
        "education_clean = df[\"Education\"].dropna()\n",
        "education_clean"
      ],
      "metadata": {
        "id": "xEDAMbranbf8"
      },
      "execution_count": null,
      "outputs": []
    },
    {
      "cell_type": "markdown",
      "source": [
        "The default index starts with 0. We will set the *First_Name* symbol column as the index.\n"
      ],
      "metadata": {
        "id": "H_9XtatznsRy"
      }
    },
    {
      "cell_type": "code",
      "source": [
        "new_df = df.set_index(\"First_Name\")\n",
        "new_df.head()"
      ],
      "metadata": {
        "id": "xhjNh4-3m-Ab"
      },
      "execution_count": null,
      "outputs": []
    },
    {
      "cell_type": "code",
      "source": [
        "# To get the first row let's use loc method\n",
        "new_df.loc[\"Bonnie\"]"
      ],
      "metadata": {
        "id": "gDCb2JCPnHFW"
      },
      "execution_count": null,
      "outputs": []
    },
    {
      "cell_type": "code",
      "source": [
        "# Unlike loc which checks for the value in the index, iloc uses the row number\n",
        "# row number starts with 0\n",
        "new_df.iloc[0]"
      ],
      "metadata": {
        "id": "qB7YpXyJok0V"
      },
      "execution_count": null,
      "outputs": []
    },
    {
      "cell_type": "markdown",
      "source": [
        "## **Exercise**"
      ],
      "metadata": {
        "id": "1AFLLr2ZpBJR"
      }
    },
    {
      "cell_type": "markdown",
      "source": [
        "Count the number of participants who are not researchers in the original dataframe.\n",
        "\n",
        "\n",
        "Hint: Get the column is_researcher and use a for loop. Within the for loop use a if condition to check whether the entry is No and update a counter\n"
      ],
      "metadata": {
        "id": "CZBW4W6hpGSL"
      }
    },
    {
      "cell_type": "code",
      "source": [
        "# YOUR CODE HERE"
      ],
      "metadata": {
        "id": "l-ABaPmrotaP"
      },
      "execution_count": null,
      "outputs": []
    },
    {
      "cell_type": "markdown",
      "source": [
        "Set the column with Last_Name as the index\n"
      ],
      "metadata": {
        "id": "UOtvLngbqNT7"
      }
    },
    {
      "cell_type": "code",
      "source": [
        "# YOUR CODE HERE"
      ],
      "metadata": {
        "id": "85FKIAXgpenQ"
      },
      "execution_count": null,
      "outputs": []
    },
    {
      "cell_type": "markdown",
      "source": [
        "## **Groupby method**\n"
      ],
      "metadata": {
        "id": "QlGEw5h5qy4I"
      }
    },
    {
      "cell_type": "markdown",
      "source": [
        "This method allows you to group data. A categorical variable is generally used.\n"
      ],
      "metadata": {
        "id": "LyrTqPtiq3XN"
      }
    },
    {
      "cell_type": "code",
      "source": [
        "# Group participants by Is_programmer\n",
        "# Here we first group data by Is_programmer and get the entries in No.\n",
        "# The resultant object is another dataframe\n",
        "\n",
        "is_programmer_group = df.groupby(\"Is_programmer\")\n",
        "not_programmer = is_programmer_group.get_group(\"No\")\n",
        "not_programmer"
      ],
      "metadata": {
        "id": "eVFoxmV9q0-e"
      },
      "execution_count": null,
      "outputs": []
    },
    {
      "cell_type": "markdown",
      "source": [
        "There are several methods available for a DataFrame and Series. Use *dir* on the DataFrame object to list the methods"
      ],
      "metadata": {
        "id": "W835A_-irZ_-"
      }
    },
    {
      "cell_type": "code",
      "source": [
        "# Let's use the count method to find the number of entries in the not_programmer dataframe\n",
        "not_programmer.count()"
      ],
      "metadata": {
        "id": "p63nAB4xrQxx"
      },
      "execution_count": null,
      "outputs": []
    },
    {
      "cell_type": "markdown",
      "source": [
        "##**EXERCISE**"
      ],
      "metadata": {
        "id": "agRsQ_vns6xK"
      }
    },
    {
      "cell_type": "markdown",
      "source": [
        "Using the dataframe 'df', create a new dataframe without any NaN values. (Hint: Use dropna). Then with the new dataframe, get participants who are undergraduates\n"
      ],
      "metadata": {
        "id": "MntEEXlBs-Bj"
      }
    },
    {
      "cell_type": "code",
      "source": [
        "# Create the clean dataframe with dropna\n",
        "clean_df = # YOUR CODE HERE\n",
        "clean_df.head()"
      ],
      "metadata": {
        "id": "MuAjH8vsr4sd"
      },
      "execution_count": null,
      "outputs": []
    },
    {
      "cell_type": "code",
      "source": [
        "# Use groupby on Education\n",
        "education_group = # YOUR CODE HERE"
      ],
      "metadata": {
        "id": "erBYDFDz_uqk"
      },
      "execution_count": null,
      "outputs": []
    },
    {
      "cell_type": "code",
      "source": [
        "# Get group of Undergraduate\n",
        "undergraduates = # YOUR CODE HERE"
      ],
      "metadata": {
        "id": "6nKGzIa4_zVM"
      },
      "execution_count": null,
      "outputs": []
    },
    {
      "cell_type": "markdown",
      "source": [
        "Get list of participants how are Graduates and non-programmers.\n",
        "\n",
        "Hint: Use a list of arguments [\"Education\",\"Is_programmer\"] in groupby instead of a single argument \"Education\" we use before. To get the group of graduates and non-programmers, use the corresponding labels as a tuple (\"Graduate\",\"No\")"
      ],
      "metadata": {
        "id": "esWCiKkPuJpb"
      }
    },
    {
      "cell_type": "code",
      "source": [
        "# YOUR CODE HERE"
      ],
      "metadata": {
        "id": "hS6QjwIOsLIg"
      },
      "execution_count": null,
      "outputs": []
    },
    {
      "cell_type": "markdown",
      "source": [
        "## **Saving the dataframe**\n",
        "\n",
        "We will save the s block dataframe as a CSV file. The format can be excel too."
      ],
      "metadata": {
        "id": "_mUfn3Tru8ID"
      }
    },
    {
      "cell_type": "code",
      "source": [
        "not_programmer.to_csv(\"non_programmers.csv\")"
      ],
      "metadata": {
        "id": "CmASYKHvu4WE"
      },
      "execution_count": null,
      "outputs": []
    }
  ]
}
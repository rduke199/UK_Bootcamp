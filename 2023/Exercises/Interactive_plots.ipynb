{
  "nbformat": 4,
  "nbformat_minor": 0,
  "metadata": {
    "colab": {
      "provenance": [],
      "authorship_tag": "ABX9TyMqY8yILq/d2NYIV9syL37t",
      "include_colab_link": true
    },
    "kernelspec": {
      "name": "python3",
      "display_name": "Python 3"
    },
    "language_info": {
      "name": "python"
    }
  },
  "cells": [
    {
      "cell_type": "markdown",
      "metadata": {
        "id": "view-in-github",
        "colab_type": "text"
      },
      "source": [
        "<a href=\"https://colab.research.google.com/github/vinayak2019/UK_Bootcamp/blob/main/2023/Exercises/Interactive_plots.ipynb\" target=\"_parent\"><img src=\"https://colab.research.google.com/assets/colab-badge.svg\" alt=\"Open In Colab\"/></a>"
      ]
    },
    {
      "cell_type": "markdown",
      "source": [
        "We will use plotly for interactive plotting. We need to install this package. [Link](https://plotly.com/python/) to plotly documentation."
      ],
      "metadata": {
        "id": "pxMTLPNf4Hnh"
      }
    },
    {
      "cell_type": "code",
      "source": [
        "!pip install plotly"
      ],
      "metadata": {
        "id": "w2f_WEvq4GZq"
      },
      "execution_count": null,
      "outputs": []
    },
    {
      "cell_type": "markdown",
      "source": [
        "We will get the TSLA CSV file that we used before to plot"
      ],
      "metadata": {
        "id": "3CqP1-Z24ws3"
      }
    },
    {
      "cell_type": "code",
      "source": [
        "! wget https://raw.githubusercontent.com/vinayak2019/UK_Bootcamp/main/2023/Exercises/TSLA.csv"
      ],
      "metadata": {
        "id": "5409tqgN4wQr"
      },
      "execution_count": null,
      "outputs": []
    },
    {
      "cell_type": "markdown",
      "source": [
        "Import the express file and pandas"
      ],
      "metadata": {
        "id": "ovU7HBb84lwY"
      }
    },
    {
      "cell_type": "code",
      "execution_count": null,
      "metadata": {
        "id": "qrRK4eJi4CEA"
      },
      "outputs": [],
      "source": [
        "import plotly.express as px\n",
        "import pandas as pd"
      ]
    },
    {
      "cell_type": "markdown",
      "source": [
        "We will read the data with pandas then plot with plotly express"
      ],
      "metadata": {
        "id": "jinzTQlx47rx"
      }
    },
    {
      "cell_type": "code",
      "source": [
        "# Read the CSV file\n",
        "df = pd.read_csv(\"TSLA.csv\").reset_index()\n",
        "df"
      ],
      "metadata": {
        "id": "PSLXkarJ4r3v"
      },
      "execution_count": null,
      "outputs": []
    },
    {
      "cell_type": "markdown",
      "source": [
        "Let's plot index and open"
      ],
      "metadata": {
        "id": "zQh7YHQF5Zq7"
      }
    },
    {
      "cell_type": "code",
      "source": [
        "days = df[\"index\"]\n",
        "open = df[\"Open\"]"
      ],
      "metadata": {
        "id": "4D7a0J5B5DAS"
      },
      "execution_count": null,
      "outputs": []
    },
    {
      "cell_type": "code",
      "source": [
        "fig = px.line(x=days,y=open)\n",
        "fig.show()"
      ],
      "metadata": {
        "id": "PxqkvRe75h1f"
      },
      "execution_count": null,
      "outputs": []
    },
    {
      "cell_type": "markdown",
      "source": [
        "You can even pass the dataframe object and specify x and y column names to plot"
      ],
      "metadata": {
        "id": "UfMOkh4n58jK"
      }
    },
    {
      "cell_type": "code",
      "source": [
        "fig = px.line(df, x=\"Date\",y=\"Open\")\n",
        "fig.show()\n"
      ],
      "metadata": {
        "id": "1bCkZ3mn5xEe"
      },
      "execution_count": null,
      "outputs": []
    },
    {
      "cell_type": "markdown",
      "source": [
        "## EXERCISE\n",
        "\n",
        "Create a scatter plot and bar plot for \"Close\" and \"Volume\""
      ],
      "metadata": {
        "id": "mal0Py3T7L__"
      }
    },
    {
      "cell_type": "code",
      "source": [
        "# YOUR CODE HERE"
      ],
      "metadata": {
        "id": "evwBN1Jj6-Cl"
      },
      "execution_count": null,
      "outputs": []
    }
  ]
}
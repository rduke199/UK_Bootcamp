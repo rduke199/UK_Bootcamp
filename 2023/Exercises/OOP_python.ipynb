{
  "nbformat": 4,
  "nbformat_minor": 0,
  "metadata": {
    "colab": {
      "provenance": [],
      "authorship_tag": "ABX9TyODSTwuGqu4+SVadxo3mVFd",
      "include_colab_link": true
    },
    "kernelspec": {
      "name": "python3",
      "display_name": "Python 3"
    },
    "language_info": {
      "name": "python"
    }
  },
  "cells": [
    {
      "cell_type": "markdown",
      "metadata": {
        "id": "view-in-github",
        "colab_type": "text"
      },
      "source": [
        "<a href=\"https://colab.research.google.com/github/vinayak2019/UK_Bootcamp/blob/main/2023/Exercises/OOP_python.ipynb\" target=\"_parent\"><img src=\"https://colab.research.google.com/assets/colab-badge.svg\" alt=\"Open In Colab\"/></a>"
      ]
    },
    {
      "cell_type": "markdown",
      "source": [
        "## Class in Python\n",
        "\n",
        "Create a phonebook with three names and phone numbers provided by the user. Once the phonebook is created, display all entries.\n",
        "\n",
        "Pseudocode:\n",
        "1. Set an empty list memory \"phonebook\"\n",
        "2. Start a loop to add contacts to the phonebook\n",
        "  1. Read a first name from the user and store it in a memory called \"name\"\n",
        "  2. Read a phone number from the user and store it in a memory called \"number\"\n",
        "  3. Add the \"name\" as a key and the \"phone\" as the corresponding value in the \"phonebook\" dictionary.\n",
        "\n",
        "\n",
        "4. Display the \"phonebook\" dictionary"
      ],
      "metadata": {
        "id": "ppD6JBrrGqOT"
      }
    },
    {
      "cell_type": "code",
      "source": [
        "phonebook = {}\n",
        "\n",
        "for i in range(3):\n",
        "  name = input(\"Enter Name: \")\n",
        "  number = input(\"Enter phone number: \")\n",
        "  phonebook[name] = number\n",
        "\n",
        "print(phonebook)"
      ],
      "metadata": {
        "id": "wz5tpNJZM40v"
      },
      "execution_count": null,
      "outputs": []
    },
    {
      "cell_type": "markdown",
      "source": [
        "Suppose we want to get the area code for a entry. We can define a function."
      ],
      "metadata": {
        "id": "_BEebwZ2Xmc7"
      }
    },
    {
      "cell_type": "code",
      "source": [
        "def area_code(phonebook,name):\n",
        "  if phonebook.get(name,):\n",
        "    code = phonebook[name][:3]\n",
        "    print(\"Area code: \",code)\n",
        "  else:\n",
        "    print(\"Contact not found.\")\n"
      ],
      "metadata": {
        "id": "MldI2207XvV9"
      },
      "execution_count": null,
      "outputs": []
    },
    {
      "cell_type": "code",
      "source": [
        "area_code(phonebook, \"James\")"
      ],
      "metadata": {
        "id": "0S2baXnJYD-9"
      },
      "execution_count": null,
      "outputs": []
    },
    {
      "cell_type": "markdown",
      "source": [
        "To get the number for a contact, we have the following function -"
      ],
      "metadata": {
        "id": "vPkMV227aVS-"
      }
    },
    {
      "cell_type": "code",
      "source": [
        "def get_number(phonebook,name):\n",
        "  if phonebook.get(name,):\n",
        "    print(\"Number: \", phonebook[name])\n",
        "  else:\n",
        "    print(\"Contact not found.\")"
      ],
      "metadata": {
        "id": "Qp58bBUHab9O"
      },
      "execution_count": null,
      "outputs": []
    },
    {
      "cell_type": "code",
      "source": [
        "get_number(phonebook, \"James\")"
      ],
      "metadata": {
        "id": "DzlFxJada7-w"
      },
      "execution_count": null,
      "outputs": []
    },
    {
      "cell_type": "markdown",
      "source": [
        "We see that we always have to pass the phonebook object to functions. We can change this by adding the function a class. Below is an example of class which increase reusability of code and makes it easier to work with complex code."
      ],
      "metadata": {
        "id": "jFsCTB8nN96Z"
      }
    },
    {
      "cell_type": "code",
      "execution_count": null,
      "metadata": {
        "id": "zHyPhBtGGd1E"
      },
      "outputs": [],
      "source": [
        "class Phonebook:\n",
        "    # this is the initialization of the object\n",
        "    def __init__(self):\n",
        "        self.contacts = {}\n",
        "\n",
        "    # the function is inside the class - this is a method\n",
        "    def add_contact(self, name, number):\n",
        "        self.contacts[name] = number\n",
        "        print(\"Added contact: \",name, number)\n",
        "\n",
        "    # this is also a method\n",
        "    def display_contacts(self):\n",
        "        if self.contacts:\n",
        "            print(\"Phonebook contacts:\")\n",
        "            print(self.contacts)\n",
        "        else:\n",
        "            print(\"Phonebook is empty.\")\n",
        "\n",
        "    # this is a method to get area code - first three character\n",
        "    def get_area_code(self,name):\n",
        "      if self.contacts.get(name,):\n",
        "        code = self.contacts[name][:3]\n",
        "        print(\"Area code: \",code)\n",
        "      else:\n",
        "        print(\"Contact not found.\")"
      ]
    },
    {
      "cell_type": "markdown",
      "source": [
        "We create a phonebook"
      ],
      "metadata": {
        "id": "Sr5eNXALXINC"
      }
    },
    {
      "cell_type": "code",
      "source": [
        "my_phonebook = Phonebook()\n",
        "\n",
        "for i in range(3):\n",
        "  name = input(\"Enter Name: \")\n",
        "  number = input(\"Enter phone number: \")\n",
        "  my_phonebook.add_contact(name, number)"
      ],
      "metadata": {
        "id": "L0rH_KwjU9Oa"
      },
      "execution_count": null,
      "outputs": []
    },
    {
      "cell_type": "markdown",
      "source": [
        "Getting the area code"
      ],
      "metadata": {
        "id": "YYB-9_dXZAw7"
      }
    },
    {
      "cell_type": "code",
      "source": [
        "my_phonebook.get_area_code(\"Vinayak\")"
      ],
      "metadata": {
        "id": "uyFLsqciWMK7"
      },
      "execution_count": null,
      "outputs": []
    },
    {
      "cell_type": "markdown",
      "source": [
        "## Task: Edit the class code below to include the get_number function as a method for the class"
      ],
      "metadata": {
        "id": "8c2LOPzRbI3O"
      }
    },
    {
      "cell_type": "code",
      "source": [
        "class New_Phonebook:\n",
        "    # this is the initialization of the object\n",
        "    def __init__(self):\n",
        "        self.contacts = {}\n",
        "\n",
        "    # the function is inside the class - this is a method\n",
        "    def add_contact(self, name, number):\n",
        "        self.contacts[name] = number\n",
        "        print(\"Added contact: \",name, number)\n",
        "\n",
        "    # this is also a method\n",
        "    def display_contacts(self):\n",
        "        if self.contacts:\n",
        "            print(\"Phonebook contacts:\")\n",
        "            print(name, number)\n",
        "        else:\n",
        "            print(\"Phonebook is empty.\")\n",
        "\n",
        "    # this is a method to get area code - first three character\n",
        "    def get_area_code(self,name):\n",
        "      if self.contacts.get(name,):\n",
        "        code = self.contacts[name][:3]\n",
        "        print(\"Area code: \",code)\n",
        "      else:\n",
        "        print(\"Contact not found.\")"
      ],
      "metadata": {
        "id": "BKlD_GctbYb2"
      },
      "execution_count": null,
      "outputs": []
    },
    {
      "cell_type": "markdown",
      "source": [
        "Run the cell below to check if the code works"
      ],
      "metadata": {
        "id": "hPolm72Dben6"
      }
    },
    {
      "cell_type": "code",
      "source": [
        "my_phonebook = New_Phonebook()\n",
        "my_phonebook.add_contact(\"Jack\", 12345678)\n",
        "my_phonebook.get_number(\"Jack\")"
      ],
      "metadata": {
        "id": "aDPmgu2Wbjar"
      },
      "execution_count": null,
      "outputs": []
    }
  ]
}
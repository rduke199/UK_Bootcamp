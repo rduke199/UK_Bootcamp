{
  "nbformat": 4,
  "nbformat_minor": 0,
  "metadata": {
    "colab": {
      "provenance": []
    },
    "kernelspec": {
      "name": "python3",
      "display_name": "Python 3"
    },
    "language_info": {
      "name": "python"
    }
  },
  "cells": [
    {
      "cell_type": "markdown",
      "source": [
        "# Plotting"
      ],
      "metadata": {
        "id": "t-KMQtRpY_m3"
      }
    },
    {
      "cell_type": "markdown",
      "source": [
        "Sample data is the stock price of Tesla for 1 year"
      ],
      "metadata": {
        "id": "8vSJewMtv4R_"
      }
    },
    {
      "cell_type": "code",
      "source": [
        "# Get sample data for plotting\n",
        "! wget https://raw.githubusercontent.com/vinayak2019/UK_Bootcamp/main/2023/Exercises/TSLA.csv"
      ],
      "metadata": {
        "id": "_xz8iy0zvxC8"
      },
      "execution_count": null,
      "outputs": []
    },
    {
      "cell_type": "code",
      "source": [
        "# read the data into pandas DataFrame\n",
        "import pandas as pd\n",
        "\n",
        "df = pd.read_csv(\"TSLA.csv\").reset_index()"
      ],
      "metadata": {
        "id": "N5UpxkCcbBnV"
      },
      "execution_count": null,
      "outputs": []
    },
    {
      "cell_type": "code",
      "source": [
        "# look at the dataframe\n",
        "df.head()"
      ],
      "metadata": {
        "id": "BYouwm_dicXr"
      },
      "execution_count": null,
      "outputs": []
    },
    {
      "cell_type": "markdown",
      "source": [
        "# **Matplotlib**\n",
        "\n",
        "There are two methods to plot data with matplotlib\n",
        "\n",
        "1. Sequential\n",
        "2. Object-oriented\n",
        "\n",
        "We will start with sequential"
      ],
      "metadata": {
        "id": "vrnfjYL9vf7J"
      }
    },
    {
      "cell_type": "code",
      "execution_count": null,
      "metadata": {
        "id": "C1OScfB2ve-T"
      },
      "outputs": [],
      "source": [
        "import matplotlib.pyplot as plt"
      ]
    },
    {
      "cell_type": "code",
      "source": [
        "# Get the open data (y-axis) to plot against index days (x-axis)\n",
        "open = df[\"Open\"]\n",
        "days = df[\"index\"]"
      ],
      "metadata": {
        "id": "wMaIdilgAI0p"
      },
      "execution_count": null,
      "outputs": []
    },
    {
      "cell_type": "markdown",
      "source": [
        "A simple line plot needs X and Y values"
      ],
      "metadata": {
        "id": "ALyV3errAlBB"
      }
    },
    {
      "cell_type": "code",
      "source": [
        "# Line plot\n",
        "plt.plot(days,open)"
      ],
      "metadata": {
        "id": "Oni02kCtAff9"
      },
      "execution_count": null,
      "outputs": []
    },
    {
      "cell_type": "markdown",
      "source": [
        "To change color of the lines use *color* argument. You can even use [HEX colors](https://www.google.com/search?q=hex+color&oq=HEX)"
      ],
      "metadata": {
        "id": "RylllZwcA6wU"
      }
    },
    {
      "cell_type": "code",
      "source": [
        "# Change color\n",
        "plt.plot(days,open,color=\"red\")"
      ],
      "metadata": {
        "id": "UVR6ydvdArL5"
      },
      "execution_count": null,
      "outputs": []
    },
    {
      "cell_type": "markdown",
      "source": [
        "This lineplot has [*linestyle*](https://matplotlib.org/stable/gallery/lines_bars_and_markers/linestyles.html) and [*marker*](https://matplotlib.org/stable/api/markers_api.html) options"
      ],
      "metadata": {
        "id": "ziXXZF-TB11l"
      }
    },
    {
      "cell_type": "code",
      "source": [
        "# Change line appearance\n",
        "plt.plot(days,open,linestyle=\"dashed\")"
      ],
      "metadata": {
        "id": "_WrLjPZ7BEiT"
      },
      "execution_count": null,
      "outputs": []
    },
    {
      "cell_type": "code",
      "source": [
        "# Change marker appearance\n",
        "plt.plot(days,open,marker=\"o\")"
      ],
      "metadata": {
        "id": "A4QLmoErBeUD"
      },
      "execution_count": null,
      "outputs": []
    },
    {
      "cell_type": "markdown",
      "source": [
        "Now let's add x and y axis labels"
      ],
      "metadata": {
        "id": "nPWigHj6Ddmi"
      }
    },
    {
      "cell_type": "code",
      "source": [
        "# Add x and y labels\n",
        "plt.plot(days,open,marker=\"o\")\n",
        "plt.xlabel(\"Days\")\n",
        "plt.ylabel(\"Value\")"
      ],
      "metadata": {
        "id": "O_9WFV3mCw3P"
      },
      "execution_count": null,
      "outputs": []
    },
    {
      "cell_type": "markdown",
      "source": [
        "If we want to plot both open and high on the same plot, we would need legends for each lines. We can do that by adding label argument"
      ],
      "metadata": {
        "id": "Ebc8OHJYD3Jb"
      }
    },
    {
      "cell_type": "code",
      "source": [
        "# Get the high data\n",
        "high = df[\"High\"]\n",
        "\n",
        "# plot the two lines\n",
        "plt.plot(days,open,label=\"open\")\n",
        "plt.plot(days,high,label=\"high\")\n",
        "plt.legend()"
      ],
      "metadata": {
        "id": "BjrBBA-YDqFP"
      },
      "execution_count": null,
      "outputs": []
    },
    {
      "cell_type": "markdown",
      "source": [
        "To save the plot to a file, you can use *savefig* function"
      ],
      "metadata": {
        "id": "rfJU-12DYVaH"
      }
    },
    {
      "cell_type": "code",
      "source": [
        "# plot the two lines and add labels\n",
        "plt.plot(days,open,label=\"open\")\n",
        "plt.plot(days,high,label=\"high\")\n",
        "plt.legend()\n",
        "plt.xlabel(\"Days\")\n",
        "plt.ylabel(\"Value\")\n",
        "\n",
        "# save the plot\n",
        "plt.savefig(\"my_plot.png\")"
      ],
      "metadata": {
        "id": "jwvIsTDkXs3U"
      },
      "execution_count": null,
      "outputs": []
    },
    {
      "cell_type": "markdown",
      "source": [
        "## EXERCISE\n",
        "\n",
        "Plot Open,High,Low and Close data from the dataframe.\n",
        "\n",
        "\n",
        "1.   Plot Open with marker o\n",
        "2.   Plot Close with dashed line\n",
        "3. Plot Low with marker * and dashed line, color black\n",
        "\n",
        "\n"
      ],
      "metadata": {
        "id": "JQKBW0JbZWJX"
      }
    },
    {
      "cell_type": "code",
      "source": [
        "# YOUR CODE HERE"
      ],
      "metadata": {
        "id": "j5S5OeRQaIHv"
      },
      "execution_count": null,
      "outputs": []
    },
    {
      "cell_type": "markdown",
      "source": [
        "### Scatter plot\n",
        "\n",
        "Replace plt.plot() with plt.scatter()"
      ],
      "metadata": {
        "id": "Ma8ioPjjw56e"
      }
    },
    {
      "cell_type": "code",
      "source": [
        "plt.scatter(days,open)"
      ],
      "metadata": {
        "id": "bH9Xrl3ww4Sl"
      },
      "execution_count": null,
      "outputs": []
    },
    {
      "cell_type": "markdown",
      "source": [
        "### Bar chart\n",
        "\n",
        "Replace plt.plot() with plt.bar()"
      ],
      "metadata": {
        "id": "SJrUgLyfxsJ9"
      }
    },
    {
      "cell_type": "code",
      "source": [
        "plt.bar(days,open)"
      ],
      "metadata": {
        "id": "oq5bKZ2-xjqN"
      },
      "execution_count": null,
      "outputs": []
    },
    {
      "cell_type": "markdown",
      "source": [
        "### Histogram plot\n",
        "\n",
        "Use plt.hist(). `bins` argument groups data into bins"
      ],
      "metadata": {
        "id": "Rd51bF7Ox8d0"
      }
    },
    {
      "cell_type": "code",
      "source": [
        "plt.hist(open,bins=100)"
      ],
      "metadata": {
        "id": "1d_8zCJ7yAaL"
      },
      "execution_count": null,
      "outputs": []
    },
    {
      "cell_type": "code",
      "source": [],
      "metadata": {
        "id": "9MN9nBcKyD0T"
      },
      "execution_count": null,
      "outputs": []
    },
    {
      "cell_type": "markdown",
      "source": [
        "# Object-based plot\n",
        "\n",
        "You create an object which gives you axis object and figure object. The axis will be accessed with subscripting.\n",
        "\n",
        "Let's plot Open and Close in two plots"
      ],
      "metadata": {
        "id": "UUVaNbu_zClM"
      }
    },
    {
      "cell_type": "code",
      "source": [
        "close = df[\"Close\"]"
      ],
      "metadata": {
        "id": "6vzsZL6r0zZ_"
      },
      "execution_count": null,
      "outputs": []
    },
    {
      "cell_type": "code",
      "source": [
        "# Line plot\n",
        "plt.plot(days,open)"
      ],
      "metadata": {
        "id": "TcAqOEg6zGVC"
      },
      "execution_count": null,
      "outputs": []
    },
    {
      "cell_type": "markdown",
      "source": [
        "plt.subplots(rows,columns) takes number of rows and columns as argument"
      ],
      "metadata": {
        "id": "22tQDUPcz0pD"
      }
    },
    {
      "cell_type": "code",
      "source": [
        "# 1 row 2 columns\n",
        "fig, ax = plt.subplots(1,2)"
      ],
      "metadata": {
        "id": "MjUG1J7Fzw7f"
      },
      "execution_count": null,
      "outputs": []
    },
    {
      "cell_type": "code",
      "source": [
        "# 1 row 2 columns\n",
        "fig, ax = plt.subplots(1,2)"
      ],
      "metadata": {
        "id": "VZ6fl6RH0GjT"
      },
      "execution_count": null,
      "outputs": []
    },
    {
      "cell_type": "markdown",
      "source": [
        "To access on of the subplot we subscript"
      ],
      "metadata": {
        "id": "W-U3F64m0NxT"
      }
    },
    {
      "cell_type": "markdown",
      "source": [
        "![image.png](data:image/png;base64,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)"
      ],
      "metadata": {
        "id": "b1WQB2DSzqiV"
      }
    },
    {
      "cell_type": "markdown",
      "source": [
        "Adding open to the left plot. Instead of `plt.plot()` that we used before, we will use the `ax` object. `ax[0].plt()`\n",
        "\n",
        "\n"
      ],
      "metadata": {
        "id": "Uh0UR30_0uQ0"
      }
    },
    {
      "cell_type": "code",
      "source": [
        "ax[0].plot(days,open)"
      ],
      "metadata": {
        "id": "XV8odj99zJ5a"
      },
      "execution_count": null,
      "outputs": []
    },
    {
      "cell_type": "code",
      "source": [
        "# use the fig object to display plot\n",
        "fig"
      ],
      "metadata": {
        "id": "n_MlItDH0adb"
      },
      "execution_count": null,
      "outputs": []
    },
    {
      "cell_type": "markdown",
      "source": [
        "Adding close to the second plot"
      ],
      "metadata": {
        "id": "4M-2mTJ707ts"
      }
    },
    {
      "cell_type": "code",
      "source": [
        "ax[1].scatter(days,close)"
      ],
      "metadata": {
        "id": "89WXznLc02VB"
      },
      "execution_count": null,
      "outputs": []
    },
    {
      "cell_type": "code",
      "source": [
        "fig"
      ],
      "metadata": {
        "id": "3cx9toWa1Sib"
      },
      "execution_count": null,
      "outputs": []
    },
    {
      "cell_type": "markdown",
      "source": [
        "For more than a single row or column plot, you the subscript as follows"
      ],
      "metadata": {
        "id": "4cSBMOpH1bES"
      }
    },
    {
      "cell_type": "code",
      "source": [
        "# 1 row 2 columns\n",
        "fig, ax = plt.subplots(3,3)"
      ],
      "metadata": {
        "id": "uNr7b-bD1UvK"
      },
      "execution_count": null,
      "outputs": []
    },
    {
      "cell_type": "code",
      "source": [
        "ax[1,1].plot(days,open)"
      ],
      "metadata": {
        "id": "n2Fp0njP1mqq"
      },
      "execution_count": null,
      "outputs": []
    },
    {
      "cell_type": "code",
      "source": [
        "fig"
      ],
      "metadata": {
        "id": "V3KsB--21xWy"
      },
      "execution_count": null,
      "outputs": []
    },
    {
      "cell_type": "markdown",
      "source": [
        "# EXERCISE"
      ],
      "metadata": {
        "id": "e2sgpI8814qS"
      }
    },
    {
      "cell_type": "markdown",
      "source": [
        "Make a 2x2 plot with days as x-axis and open as y-axis for each plot. Plot the data as line plot, scatter plot, bar plot and histogram in those 4 plots"
      ],
      "metadata": {
        "id": "UK43Lzzj18nJ"
      }
    },
    {
      "cell_type": "code",
      "source": [
        "# YOUR CODE HERE"
      ],
      "metadata": {
        "id": "IApUyB6G160i"
      },
      "execution_count": null,
      "outputs": []
    }
  ]
}
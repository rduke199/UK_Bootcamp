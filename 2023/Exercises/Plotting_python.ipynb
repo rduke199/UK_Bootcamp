{
  "nbformat": 4,
  "nbformat_minor": 0,
  "metadata": {
    "colab": {
      "provenance": [],
      "authorship_tag": "ABX9TyP/y98mLFNE3LcHEiXaCG/b",
      "include_colab_link": true
    },
    "kernelspec": {
      "name": "python3",
      "display_name": "Python 3"
    },
    "language_info": {
      "name": "python"
    }
  },
  "cells": [
    {
      "cell_type": "markdown",
      "metadata": {
        "id": "view-in-github",
        "colab_type": "text"
      },
      "source": [
        "<a href=\"https://colab.research.google.com/github/vinayak2019/UK_Bootcamp/blob/main/2023/Exercises/Plotting_python.ipynb\" target=\"_parent\"><img src=\"https://colab.research.google.com/assets/colab-badge.svg\" alt=\"Open In Colab\"/></a>"
      ]
    },
    {
      "cell_type": "markdown",
      "source": [
        "# Plotting"
      ],
      "metadata": {
        "id": "t-KMQtRpY_m3"
      }
    },
    {
      "cell_type": "markdown",
      "source": [
        "Sample data is the stock price of Tesla for 1 year"
      ],
      "metadata": {
        "id": "8vSJewMtv4R_"
      }
    },
    {
      "cell_type": "code",
      "source": [
        "# Get sample data for plotting\n",
        "! wget https://raw.githubusercontent.com/vinayak2019/UK_Bootcamp/main/2023/Exercises/TSLA.csv"
      ],
      "metadata": {
        "id": "_xz8iy0zvxC8"
      },
      "execution_count": null,
      "outputs": []
    },
    {
      "cell_type": "code",
      "source": [
        "# read the data into pandas DataFrame\n",
        "import pandas as pd\n",
        "\n",
        "df = pd.read_csv(\"TSLA.csv\").reset_index()"
      ],
      "metadata": {
        "id": "N5UpxkCcbBnV"
      },
      "execution_count": null,
      "outputs": []
    },
    {
      "cell_type": "code",
      "source": [
        "# look at the dataframe\n",
        "df.head()"
      ],
      "metadata": {
        "id": "BYouwm_dicXr"
      },
      "execution_count": null,
      "outputs": []
    },
    {
      "cell_type": "markdown",
      "source": [
        "# **Matplotlib**\n",
        "\n",
        "There are two methods to plot data with matplotlib\n",
        "\n",
        "1. Sequential\n",
        "2. Object-oriented\n",
        "\n",
        "We will discuss only sequential method here."
      ],
      "metadata": {
        "id": "vrnfjYL9vf7J"
      }
    },
    {
      "cell_type": "code",
      "execution_count": null,
      "metadata": {
        "id": "C1OScfB2ve-T"
      },
      "outputs": [],
      "source": [
        "import matplotlib.pyplot as plt"
      ]
    },
    {
      "cell_type": "code",
      "source": [
        "# Get the open data (y-axis) to plot against index days (x-axis)\n",
        "open = df[\"Open\"]\n",
        "days = df[\"index\"]"
      ],
      "metadata": {
        "id": "wMaIdilgAI0p"
      },
      "execution_count": null,
      "outputs": []
    },
    {
      "cell_type": "markdown",
      "source": [
        "A simple line plot needs X and Y values"
      ],
      "metadata": {
        "id": "ALyV3errAlBB"
      }
    },
    {
      "cell_type": "code",
      "source": [
        "# Line plot\n",
        "plt.plot(days,open)"
      ],
      "metadata": {
        "id": "Oni02kCtAff9"
      },
      "execution_count": null,
      "outputs": []
    },
    {
      "cell_type": "markdown",
      "source": [
        "To change color of the lines use *color* argument. You can even use [HEX colors](https://www.google.com/search?q=hex+color&oq=HEX)"
      ],
      "metadata": {
        "id": "RylllZwcA6wU"
      }
    },
    {
      "cell_type": "code",
      "source": [
        "# Change color\n",
        "plt.plot(days,open,color=\"red\")"
      ],
      "metadata": {
        "id": "UVR6ydvdArL5"
      },
      "execution_count": null,
      "outputs": []
    },
    {
      "cell_type": "markdown",
      "source": [
        "This lineplot has [*linestyle*](https://matplotlib.org/stable/gallery/lines_bars_and_markers/linestyles.html) and [*marker*](https://matplotlib.org/stable/api/markers_api.html) options"
      ],
      "metadata": {
        "id": "ziXXZF-TB11l"
      }
    },
    {
      "cell_type": "code",
      "source": [
        "# Change line appearance\n",
        "plt.plot(days,open,linestyle=\"dashed\")"
      ],
      "metadata": {
        "id": "_WrLjPZ7BEiT"
      },
      "execution_count": null,
      "outputs": []
    },
    {
      "cell_type": "code",
      "source": [
        "# Change marker appearance\n",
        "plt.plot(days,open,marker=\"o\")"
      ],
      "metadata": {
        "id": "A4QLmoErBeUD"
      },
      "execution_count": null,
      "outputs": []
    },
    {
      "cell_type": "markdown",
      "source": [
        "Now let's add x and y axis labels"
      ],
      "metadata": {
        "id": "nPWigHj6Ddmi"
      }
    },
    {
      "cell_type": "code",
      "source": [
        "# Add x and y labels\n",
        "plt.plot(days,open,marker=\"o\")\n",
        "plt.xlabel(\"Days\")\n",
        "plt.ylabel(\"Value\")"
      ],
      "metadata": {
        "id": "O_9WFV3mCw3P"
      },
      "execution_count": null,
      "outputs": []
    },
    {
      "cell_type": "markdown",
      "source": [
        "If we want to plot both open and high on the same plot, we would need legends for each lines. We can do that by adding label argument"
      ],
      "metadata": {
        "id": "Ebc8OHJYD3Jb"
      }
    },
    {
      "cell_type": "code",
      "source": [
        "# Get the high data\n",
        "high = df[\"High\"]\n",
        "\n",
        "# plot the two lines\n",
        "plt.plot(days,open,label=\"open\")\n",
        "plt.plot(days,high,label=\"high\")\n",
        "plt.legend()"
      ],
      "metadata": {
        "id": "BjrBBA-YDqFP"
      },
      "execution_count": null,
      "outputs": []
    },
    {
      "cell_type": "markdown",
      "source": [
        "To save the plot to a file, you can use *savefig* function"
      ],
      "metadata": {
        "id": "rfJU-12DYVaH"
      }
    },
    {
      "cell_type": "code",
      "source": [
        "# plot the two lines and add labels\n",
        "plt.plot(days,open,label=\"open\")\n",
        "plt.plot(days,high,label=\"high\")\n",
        "plt.legend()\n",
        "plt.xlabel(\"Days\")\n",
        "plt.ylabel(\"Value\")\n",
        "\n",
        "# save the plot\n",
        "plt.savefig(\"my_plot.png\")"
      ],
      "metadata": {
        "id": "jwvIsTDkXs3U"
      },
      "execution_count": null,
      "outputs": []
    },
    {
      "cell_type": "markdown",
      "source": [
        "## EXERCISE\n",
        "\n",
        "Plot Open,High,Low and Close data from the dataframe.\n",
        "\n",
        "\n",
        "1.   Plot Open with marker o\n",
        "2.   Plot Close with dashed line\n",
        "3. Plot Low with marker * and dashed line, color black\n",
        "\n",
        "\n"
      ],
      "metadata": {
        "id": "JQKBW0JbZWJX"
      }
    },
    {
      "cell_type": "code",
      "source": [
        "# YOUR CODE HERE"
      ],
      "metadata": {
        "id": "j5S5OeRQaIHv"
      },
      "execution_count": null,
      "outputs": []
    }
  ]
}
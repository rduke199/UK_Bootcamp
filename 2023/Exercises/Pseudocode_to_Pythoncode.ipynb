{
  "nbformat": 4,
  "nbformat_minor": 0,
  "metadata": {
    "colab": {
      "provenance": [],
      "authorship_tag": "ABX9TyPczY+z+1tkKQ6mnwal2iod",
      "include_colab_link": true
    },
    "kernelspec": {
      "name": "python3",
      "display_name": "Python 3"
    },
    "language_info": {
      "name": "python"
    }
  },
  "cells": [
    {
      "cell_type": "markdown",
      "metadata": {
        "id": "view-in-github",
        "colab_type": "text"
      },
      "source": [
        "<a href=\"https://colab.research.google.com/github/vinayak2019/UK_Bootcamp/blob/main/2023/Exercises/Pseudocode_to_Pythoncode.ipynb\" target=\"_parent\"><img src=\"https://colab.research.google.com/assets/colab-badge.svg\" alt=\"Open In Colab\"/></a>"
      ]
    },
    {
      "cell_type": "markdown",
      "source": [
        "## Task: Calculate and display the average of three exam scores 36.0, 23.0, and 45.0.\n"
      ],
      "metadata": {
        "id": "3da3VcXqp6wF"
      }
    },
    {
      "cell_type": "markdown",
      "source": [
        "#### Pseudo code:\n",
        "\n",
        "1. Read the first exam score from the user and store it in memory by name \"score1\"\n",
        "2. Read the second exam score from the user and store it in memory by name \"score2\"\n",
        "3. Read the third exam score from the user and store it in memory by name \"score3\"\n",
        "4. Set a memory called \"total\" to the sum of \"score1\", \"score2\", and \"score3\"\n",
        "5. Set a memory called \"average\" to the result of dividing \"total\" by 3\n",
        "6. Display the value of memory named *average*"
      ],
      "metadata": {
        "id": "MI-RMrGEiDE9"
      }
    },
    {
      "cell_type": "code",
      "source": [
        "score1 = 36.0"
      ],
      "metadata": {
        "id": "XyghtuDmqPPh"
      },
      "execution_count": null,
      "outputs": []
    },
    {
      "cell_type": "markdown",
      "source": [
        "Here \"score1\" is called a variable. \"=\" is an assignment operator. \"36.0\" is of type float.\n",
        "\n",
        "Other available data types in python:\n",
        "1. Integers: 22, 34, -23\n",
        "2. Float: 10.23, 22.1\n",
        "3. String: \"Hello\", \"John\",\n",
        "4. List: [22, 32, 11], [22, 0.54, \"Hello\"],\n",
        "5. Dictionary: {\"John\": 24, \"Jane\": 22, \"James\": 45 }"
      ],
      "metadata": {
        "id": "v0CbWkpdqZAG"
      }
    },
    {
      "cell_type": "code",
      "source": [
        "score2 = 23.0\n",
        "score3 = 45.0\n",
        "\n",
        "total = score1 + score2 + score3"
      ],
      "metadata": {
        "id": "YjlDbV8WrrGR"
      },
      "execution_count": null,
      "outputs": []
    },
    {
      "cell_type": "markdown",
      "source": [
        "\"+\" is the addition operator.\n",
        "\n",
        "Other operators in python:\n",
        "\n",
        "1. Assignment: \"=\"\n",
        "2. Arithemetic: \"+\" (add), \"-\" (subtract), \"/\" (divide), \"%\" (modulo, give the remainder), \"******\" (power), \"+=\" (increment)\n",
        "3. Comparison: \"==\" (equals); \">\" (greater than); \">=\" (greater than or equal to); \"!=\" (not equal to)\n",
        "4. Logical: \"and\", \"or\" and \"not\"\n"
      ],
      "metadata": {
        "id": "gMYoJR3Jr4Dj"
      }
    },
    {
      "cell_type": "code",
      "source": [
        "average = total / 3\n",
        "print(average)"
      ],
      "metadata": {
        "id": "dgjidw2csU-m"
      },
      "execution_count": null,
      "outputs": []
    },
    {
      "cell_type": "markdown",
      "source": [
        "print() is a function. We will look into function later."
      ],
      "metadata": {
        "id": "sAfOz16jsa-E"
      }
    },
    {
      "cell_type": "markdown",
      "source": [
        "## Task: Find and display the maximum of three exam scores 36, 23, and 45.\n"
      ],
      "metadata": {
        "id": "EDScgdWTi6zk"
      }
    },
    {
      "cell_type": "markdown",
      "source": [
        "1. Read the first exam score from the user and store it in memory by name \"score1\"\n",
        "2. Read the second exam score from the user and store it in memory by name \"score2\"\n",
        "3. Read the third exam score from the user and store it in memory by name \"score3\"\n",
        "4. Set a memory called \"maximum\" to \"score1\"\n",
        "5. If value of \"score2\" is greater than value of \"maximum\", set \"maximum\" to \"score2\"\n",
        "5. If value of \"score3\" is greater than value of \"maximum\", set \"maximum\" to \"score3\"\n",
        "6. Display the value of *maximum*"
      ],
      "metadata": {
        "id": "XfUe5Od4j-dO"
      }
    },
    {
      "cell_type": "code",
      "source": [
        "score1 = 36\n",
        "score2 = 23\n",
        "score3 = 45\n",
        "\n",
        "maximum = score1\n",
        "\n",
        "if score2 > maximum:\n",
        "  maximum = score2"
      ],
      "metadata": {
        "id": "Tk58fSO8Sw_v"
      },
      "execution_count": null,
      "outputs": []
    },
    {
      "cell_type": "markdown",
      "source": [
        "The syntax for the **if** control structure is\n",
        "\n",
        "if condition:\n",
        "  set of statements if condition is True\n",
        "else:\n",
        "  set of statements if condition is False\n",
        "\n",
        "Note - There is colon (:) at the end of if condition and after else. The set of sentences must be indented."
      ],
      "metadata": {
        "id": "tgFsAAajTbEi"
      }
    },
    {
      "cell_type": "code",
      "source": [
        "if score3 > maximum:\n",
        "  maximum = score3\n",
        "\n",
        "print(maximum)"
      ],
      "metadata": {
        "id": "AhZm0DLCUCpF"
      },
      "execution_count": null,
      "outputs": []
    },
    {
      "cell_type": "markdown",
      "source": [
        "## Task: Count and display the total number of vowels (a,e,i,o,u) in user's name."
      ],
      "metadata": {
        "id": "v6p6GEkGkdLD"
      }
    },
    {
      "cell_type": "markdown",
      "source": [
        "1. Read the user name and store it in memory by name \"name\"\n",
        "2. Set a memory called \"total vowels\" to 0\n",
        "3. Iterate thorugh each character in the value of \"name\" lowercase\n",
        "  1. If the character is **a**, increment the value of \"total vowels\" by 1\n",
        "  2. If the character is **e**, increment the value of \"total vowels\" by 1\n",
        "  3. If the character is **i**, increment the value of \"total vowels\" by 1\n",
        "  4. If the character is **o**, increment the value of \"total vowels\" by 1\n",
        "  5. If the character is **u**, increment the value of \"total vowels\" by 1\n",
        "\n",
        "4. Display the value of \"total vowels\"\n"
      ],
      "metadata": {
        "id": "a3G2NzqglN8c"
      }
    },
    {
      "cell_type": "markdown",
      "source": [
        "NOTE: Variable name cannot start with special character or number, except '_'. Nor can variable name have spaces. Unlilke static programming languages like C, you can declare varibles as you write the code. Some words like print, str, list etc are reserved words and cannot be uesd as variable names."
      ],
      "metadata": {
        "id": "6XGhfHzLUeo_"
      }
    },
    {
      "cell_type": "markdown",
      "source": [
        "If you want user to input name, you can use the input() function. Example is below."
      ],
      "metadata": {
        "id": "-5a0dtb5zOg_"
      }
    },
    {
      "cell_type": "code",
      "source": [
        "name = input(\"Enter you name: \")"
      ],
      "metadata": {
        "id": "IDUGCggWzX4e"
      },
      "execution_count": null,
      "outputs": []
    },
    {
      "cell_type": "markdown",
      "source": [
        "**NOTE**\n",
        "\n",
        "The type of input() received is always a string. To get a number we need to typecast it with int() or float()"
      ],
      "metadata": {
        "id": "GzoM235kPt5S"
      }
    },
    {
      "cell_type": "code",
      "source": [
        "inp = input(\"Enter a number: \")\n",
        "print(inp)\n",
        "type(inp)"
      ],
      "metadata": {
        "id": "8JD_dpBtQGXQ"
      },
      "execution_count": null,
      "outputs": []
    },
    {
      "cell_type": "code",
      "source": [
        "inp = float(input(\"Enter a number: \"))\n",
        "print(inp)\n",
        "type(inp)\n"
      ],
      "metadata": {
        "id": "kphGNszNQOCV"
      },
      "execution_count": null,
      "outputs": []
    },
    {
      "cell_type": "markdown",
      "source": [
        "Back to task.."
      ],
      "metadata": {
        "id": "jbuQ5HGBQ4Z4"
      }
    },
    {
      "cell_type": "code",
      "source": [
        "a = 0\n",
        "e = 0\n",
        "i = 0\n",
        "o = 0\n",
        "u = 0\n",
        "\n",
        "total_vowels = 0"
      ],
      "metadata": {
        "id": "_drbTIlNUOIT"
      },
      "execution_count": null,
      "outputs": []
    },
    {
      "cell_type": "markdown",
      "source": [
        "We need the characters to be in lower case for easy comparison. We will use name.lower(). More discussion on this in Day 2."
      ],
      "metadata": {
        "id": "mO5yyP6cyqV8"
      }
    },
    {
      "cell_type": "code",
      "source": [
        "name.lower()"
      ],
      "metadata": {
        "id": "5eRaNHiwy8o0"
      },
      "execution_count": null,
      "outputs": []
    },
    {
      "cell_type": "code",
      "source": [
        "for character in name.lower():\n",
        "  if character == \"a\":\n",
        "    total_vowels = total_vowels + 1\n",
        "  if character == \"e\":\n",
        "    total_vowels = total_vowels + 1\n",
        "  if character == \"i\":\n",
        "    total_vowels = total_vowels + 1\n",
        "  if character == \"o\":\n",
        "    total_vowels = total_vowels + 1\n",
        "  if character == \"u\":\n",
        "    total_vowels =+ 1\n",
        "\n",
        "print(total_vowels)\n"
      ],
      "metadata": {
        "id": "6J1CxmMwvv1f"
      },
      "execution_count": null,
      "outputs": []
    },
    {
      "cell_type": "markdown",
      "source": [
        "For iterating, you can use the \"for\" loop. You need to have a colon(:) at the end of for statement. The set of statements within a \"for\" loop should be indented.\n",
        "\n",
        "The type of object to loop over must be a iterator. Following are some examples\n"
      ],
      "metadata": {
        "id": "aCjRo0NYu608"
      }
    },
    {
      "cell_type": "code",
      "source": [
        "# iterator can be a list\n",
        "print(\"List\")\n",
        "for i in [1,2,3]:\n",
        "  print(i)\n",
        "\n",
        "# iterator can be range(start,end,increment) end value is not included\n",
        "print(\"\\nRange\")\n",
        "for i in range(10,20,2):\n",
        "  print(i)"
      ],
      "metadata": {
        "id": "DCFPRFWcWTVs"
      },
      "execution_count": null,
      "outputs": []
    },
    {
      "cell_type": "markdown",
      "source": [
        "The code for the above task can be simplified if we create a list with vowels and look for the character in the list."
      ],
      "metadata": {
        "id": "4Q8ZuyQlyRfy"
      }
    },
    {
      "cell_type": "code",
      "source": [
        "vowel_list = [\"a\",\"e\",\"i\",\"o\",\"u\"]\n",
        "\n",
        "total_vowels = 0\n",
        "\n",
        "for character in name.lower():\n",
        "  if character in vowel_list:\n",
        "    total_vowels += 1\n",
        "\n",
        "print(total_vowels)\n"
      ],
      "metadata": {
        "id": "bF0_NXD4yGTF"
      },
      "execution_count": null,
      "outputs": []
    },
    {
      "cell_type": "markdown",
      "source": [
        "To access values in the list, we can use subscripting. The index starts with 0. So, if you need \"a\" from the list, you will use `vowel_list[0]`. If  you need the third element, use `vowel_list[2]`"
      ],
      "metadata": {
        "id": "VyQLV5dy6SyK"
      }
    },
    {
      "cell_type": "code",
      "source": [
        "vowel_list[2]"
      ],
      "metadata": {
        "id": "WzMiZK5CQ__6"
      },
      "execution_count": null,
      "outputs": []
    },
    {
      "cell_type": "markdown",
      "source": [
        "List can be modified, to change an element use the assignment operator. For example, if you want the first element of the vowel_list to be \"z\", `vowel_list[0] = z`.\n",
        "\n",
        "To add elements to a list, use the 'append' method. Elements can be removed by using 'pop' method and providing the index"
      ],
      "metadata": {
        "id": "AT72eFAMW66J"
      }
    },
    {
      "cell_type": "code",
      "source": [
        "vowel_list.append(\"z\")\n",
        "print(vowel_list)"
      ],
      "metadata": {
        "id": "jLqEkkkAXXEA"
      },
      "execution_count": null,
      "outputs": []
    },
    {
      "cell_type": "code",
      "source": [
        "vowel_list.pop(2)\n",
        "print(vowel_list)"
      ],
      "metadata": {
        "id": "5LTpa9GKXrAO"
      },
      "execution_count": null,
      "outputs": []
    },
    {
      "cell_type": "markdown",
      "source": [
        "## Task: Count and display the occurrence of each vowel in user's name.\n"
      ],
      "metadata": {
        "id": "LFoFUy9Pl2uD"
      }
    },
    {
      "cell_type": "markdown",
      "source": [
        "1. Read the user name and store it in memory by name \"name\"\n",
        "2. Set a memory called \"a\" to 0\n",
        "3. Set a memory called \"e\" to 0\n",
        "4. Set a memory called \"i\" to 0\n",
        "5. Set a memory called \"o\" to 0\n",
        "6. Set a memory called \"u\" to 0\n",
        "7. Iterate thorugh each character in the value of \"name\"\n",
        "  1. If the character is **a**, increment the value of \"a\" by 1\n",
        "  2. If the character is **e**, increment the value of \"e\" by 1\n",
        "  3. If the character is **i**, increment the value of \"i\" by 1\n",
        "  4. If the character is **o**, increment the value of \"o\" by 1\n",
        "  5. If the character is **u**, increment the value of \"u\" by 1\n",
        "\n",
        "8. Display the values of \"a\", \"e\", \"i\", \"o\", \"u\""
      ],
      "metadata": {
        "id": "LZMacIwul0ol"
      }
    },
    {
      "cell_type": "code",
      "source": [
        "name = input(\"Enter you name: \")\n",
        "\n",
        "for character in name.lower():\n",
        "  if character == \"a\":\n",
        "    a = a + 1\n",
        "  if character == \"e\":\n",
        "    e = e + 1\n",
        "  if character == \"i\":\n",
        "    i = i + 1\n",
        "  if character == \"o\":\n",
        "    o = o + 1\n",
        "  if character == \"u\":\n",
        "    u =+ 1\n",
        "\n",
        "print(\"a\",a,\"e\",e,\"i\",i,\"o\",o,\"u\",u)"
      ],
      "metadata": {
        "id": "IK0J-f5V3Qnr"
      },
      "execution_count": null,
      "outputs": []
    },
    {
      "cell_type": "markdown",
      "source": [
        "## Task: Count and display the occurrence of each letter in user's name.\n",
        "\n",
        "1. Read the user name and store it in memory by name \"name\"\n",
        "2. Create a dictionary memory with name \"letters\"\n",
        "3. Iterate thorugh each character in the value of \"name\"\n",
        "    1. if character in dictionary key, increment value; else create a new key and set value to 1\n",
        "\n",
        "4. Display the value of dictionary \"letters\""
      ],
      "metadata": {
        "id": "Lm4-AP-Q4gvx"
      }
    },
    {
      "cell_type": "code",
      "source": [
        "name = input(\"Enter you name: \")\n",
        "letters = {}\n",
        "\n",
        "for character in name.lower():\n",
        "  if character in letters:\n",
        "    letters[character] += 1\n",
        "  else:\n",
        "    letters[character] = 1\n",
        "\n",
        "print(letters)"
      ],
      "metadata": {
        "id": "OuitcM0l6B3R"
      },
      "execution_count": null,
      "outputs": []
    },
    {
      "cell_type": "markdown",
      "source": [
        "Here \"a\" is the key and 1 is the value. To get a value corresponding to a key, we can subscript the dictionary. For instance, we get the value of \"j\" by `letters[\"j\"]`"
      ],
      "metadata": {
        "id": "tbIPE_mjPGsg"
      }
    },
    {
      "cell_type": "markdown",
      "source": [
        "##Task: Create a Shopping List\n",
        "\n",
        "Pseudo code:\n",
        "\n",
        "1. Create an empty list called \"shopping_list\"\n",
        "3. Set a variable \"add_more\" and set it to \"yes\".\n",
        "2. Start a loop to manage the shopping list if value of \"add_more\" is \"yes\":\n",
        "  1. Prompt the user to input an item to add to the list and store it in a variable called \"item\"\n",
        "  2. Append the \"item\" to the \"shopping_list\"\n",
        "  3. Ask the user if they want to add another item, if not, set \"add_more\" to \"no\".\n",
        "4. Print the \"shopping_list\" to display all the items\n",
        "\n",
        "As we don't have a fixed number of items that user can input, we need to use the \"while\" loop."
      ],
      "metadata": {
        "id": "HnKi6JbfbeLK"
      }
    },
    {
      "cell_type": "code",
      "source": [
        "shopping_list = []\n",
        "\n",
        "add_more = \"yes\"\n",
        "while add_more == \"yes\":\n",
        "  item = input(\"Enter item: \")\n",
        "  shopping_list.append(item)\n",
        "  add_more = input(\"Add more items? yes or no. \")\n",
        "\n",
        "print(shopping_list)\n"
      ],
      "metadata": {
        "id": "sg2d8rDubdel"
      },
      "execution_count": null,
      "outputs": []
    },
    {
      "cell_type": "markdown",
      "source": [
        "# **Practice**"
      ],
      "metadata": {
        "id": "GuY04-inozEZ"
      }
    },
    {
      "cell_type": "markdown",
      "source": [
        "## Calculate the sum of two numbers\n",
        "\n",
        "1. Read the first number from the user and store it in a variable called \"num1\"\n",
        "2. Read the second number from the user and store it in a variable called \"num2\"\n",
        "3. Set a variable called \"sum\" to the sum of \"num1\" and \"num2\"\n",
        "4. Print the value of \"sum\""
      ],
      "metadata": {
        "id": "4DQqFrVDBIT-"
      }
    },
    {
      "cell_type": "code",
      "source": [
        "# YOUR CODE"
      ],
      "metadata": {
        "id": "eyGn7E9sBOs0"
      },
      "execution_count": null,
      "outputs": []
    },
    {
      "cell_type": "markdown",
      "source": [
        "## Check if a number is even or odd\n",
        "\n",
        "\n",
        "1. Read a number from the user and store it in a memory called \"number\"\n",
        "2. If the remainder of \"number\" divided by 2 is 0, display \"Even\". Else display \"Odd\"\n",
        "\n",
        "Hint: Use modulo operator \"%\"\n",
        "\n",
        "\n"
      ],
      "metadata": {
        "id": "inrfXU1GsiY4"
      }
    },
    {
      "cell_type": "code",
      "source": [
        "# YOUR CODE"
      ],
      "metadata": {
        "id": "FoR8e-GlPoaw"
      },
      "execution_count": null,
      "outputs": []
    },
    {
      "cell_type": "markdown",
      "source": [
        "## Calculate tip and display total amount. User provides the bill amount and tip percentage\n",
        "\n",
        "1. Read the total bill amount from the user and store it in a memory named \"total_bill\"\n",
        "2. Read the percentage of tip the user wants to give and store it in  memory called \"tip_percentage\"\n",
        "3. Set the \"tip amount\" memory value by multiplying the \"total_bill\" by the \"tip_percentage\" divided by 100\n",
        "4. Set \"total amount\" by including the tip by adding the \"total_bill\" and the tip amount\n",
        "5. Display the \"tip amount\" and the \"total amount\""
      ],
      "metadata": {
        "id": "d8Xe1d_atq9E"
      }
    },
    {
      "cell_type": "code",
      "source": [
        "# YOUR CODE"
      ],
      "metadata": {
        "id": "RcLS0Vq5RmFr"
      },
      "execution_count": null,
      "outputs": []
    },
    {
      "cell_type": "markdown",
      "source": [
        "## Create a phonebook with three names and phone numbers provided by the user. Once the phonebook is created, display all entries."
      ],
      "metadata": {
        "id": "6sRGEDZ1u8N7"
      }
    },
    {
      "cell_type": "markdown",
      "source": [
        "1. Set an empty dictionary memory \"phonebook\"\n",
        "2. Start a loop to add contacts to the phonebook\n",
        "  1. Read a name from the user and store it in a memory called \"name\"\n",
        "  2. Read a phone number from the user and store it in a memory called \"phone\"\n",
        "  3. Add the \"name\" as a key and the \"phone\" as the corresponding value in the \"phonebook\" dictionary\n",
        "  4. Ask the user if they want to add another contact, if not, exit the loop\n",
        "3. Display the \"phonebook\" dictionary"
      ],
      "metadata": {
        "id": "huKH3mAIeY3y"
      }
    },
    {
      "cell_type": "code",
      "source": [
        "# YOUR CODE"
      ],
      "metadata": {
        "id": "phaaCOn0VkCg"
      },
      "execution_count": null,
      "outputs": []
    },
    {
      "cell_type": "markdown",
      "source": [
        "## Reverse a given string\n",
        "\n",
        "1. Read a string from the user and store it in a variable called \"input_string\"\n",
        "2. Set an empty string called \"reversed_string\"\n",
        "3. Start a loop over the \"input_string\":\n",
        "  1. Add each character to the start of the \"reversed_string\"\n",
        "4. Print the value of \"reversed_string\"\n",
        "\n",
        "Hint: Strings can be added. For example, `\"a\" + \"b\"` will give \"ab\" and `\"b\" + \"a\"` will give \"ba\".  "
      ],
      "metadata": {
        "id": "MC3xvD_gBrMk"
      }
    },
    {
      "cell_type": "code",
      "source": [
        "# YOUR CODE"
      ],
      "metadata": {
        "id": "Oem0iI8tRCzv"
      },
      "execution_count": null,
      "outputs": []
    },
    {
      "cell_type": "markdown",
      "source": [
        "## Calculate the sum of numbers from 1 to N\n",
        "\n",
        "Pseudo code:\n",
        "\n",
        "1. Read a number from the user and store it in a variable called \"N\"\n",
        "2. Set a variable called \"sum\" to 0\n",
        "3. Start a loop from 1 to \"N\" (inclusive):\n",
        "4. Add the current loop value to the value of \"sum\" and store the result in \"sum\"\n",
        "5. Print the value of \"sum\""
      ],
      "metadata": {
        "id": "SQLkI8cEQJFU"
      }
    },
    {
      "cell_type": "code",
      "source": [
        "# YOUR CODE"
      ],
      "metadata": {
        "id": "wK4W01oaQRI8"
      },
      "execution_count": null,
      "outputs": []
    },
    {
      "cell_type": "markdown",
      "source": [
        "## Guessing Game with Limited Attempts\n",
        "\n",
        "Pseudo code:\n",
        "\n",
        "1. Generate a random number between 1 and 10 and store it in a variable called \"secret_number\"\n",
        "2. Set a variable called \"attempts\" to 0\n",
        "3. Start a while loop with the condition \"attempts\" is less than 5:\n",
        "  1. Prompt the user to input their guess and store it in a variable called \"guess\"\n",
        "  2. Increment the value of \"attempts\" by 1\n",
        "  3. If the \"guess\" is equal to the \"secret_number\":\n",
        "    1. Print \"Congratulations! You guessed the number.\"\n",
        "    2. Break out of the while loop (use keyword \"break\")\n",
        "  4. Otherwise, if the \"guess\" is greater than the \"secret_number\":\n",
        "      1.Print \"Too high! Try again.\"\n",
        "  5. Otherwise, if the \"guess\" is less than the \"secret_number\":\n",
        "      1. Print \"Too low! Try again.\"\n",
        "4. Print \"Game over. The secret number was X.\" (where X is the actual \"secret_number\")\n",
        "\n",
        "Hint: To generate random number use the following code -\n",
        "\n",
        "```\n",
        "from random import randint\n",
        "secret_number = randint(1, 100)\n",
        "```"
      ],
      "metadata": {
        "id": "I5Sw0gpxeIaL"
      }
    },
    {
      "cell_type": "code",
      "source": [
        "# YOUR CODE"
      ],
      "metadata": {
        "id": "YADUxKJmeiyM"
      },
      "execution_count": null,
      "outputs": []
    }
  ]
}
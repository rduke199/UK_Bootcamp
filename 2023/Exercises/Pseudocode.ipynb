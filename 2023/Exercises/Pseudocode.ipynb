{
  "nbformat": 4,
  "nbformat_minor": 0,
  "metadata": {
    "colab": {
      "provenance": [],
      "authorship_tag": "ABX9TyMcH1iMatd1izzxjtq3o2GY",
      "include_colab_link": true
    },
    "kernelspec": {
      "name": "python3",
      "display_name": "Python 3"
    },
    "language_info": {
      "name": "python"
    }
  },
  "cells": [
    {
      "cell_type": "markdown",
      "metadata": {
        "id": "view-in-github",
        "colab_type": "text"
      },
      "source": [
        "<a href=\"https://colab.research.google.com/github/vinayak2019/UK_Bootcamp/blob/main/2023/Exercises/Pseudocode.ipynb\" target=\"_parent\"><img src=\"https://colab.research.google.com/assets/colab-badge.svg\" alt=\"Open In Colab\"/></a>"
      ]
    },
    {
      "cell_type": "markdown",
      "source": [
        "## Task: Calculate and display the average of three exam scores.\n"
      ],
      "metadata": {
        "id": "3da3VcXqp6wF"
      }
    },
    {
      "cell_type": "markdown",
      "source": [
        "#### Pseudo code:\n",
        "\n",
        "1. Read the first exam score from the user and store it in memory by name \"score1\"\n",
        "2. Read the second exam score from the user and store it in memory by name \"score2\"\n",
        "3. Read the third exam score from the user and store it in memory by name \"score3\"\n",
        "4. Set a memory called \"total\" to the sum of \"score1\", \"score2\", and \"score3\"\n",
        "5. Set a memory called \"average\" to the result of dividing \"total\" by 3\n",
        "6. Display the value of memory named *average*"
      ],
      "metadata": {
        "id": "MI-RMrGEiDE9"
      }
    },
    {
      "cell_type": "markdown",
      "source": [
        "## Task: Find and display the maximum of three exam scores"
      ],
      "metadata": {
        "id": "EDScgdWTi6zk"
      }
    },
    {
      "cell_type": "markdown",
      "source": [
        "1. Read the first exam score from the user and store it in memory by name \"score1\"\n",
        "2. Read the second exam score from the user and store it in memory by name \"score2\"\n",
        "3. Read the third exam score from the user and store it in memory by name \"score3\"\n",
        "4. Set a memory called \"maximum\" to \"score1\"\n",
        "5. If value of \"score2\" is greater than value of \"maximum\", set \"maximum\" to \"score2\"\n",
        "5. If value of \"score3\" is greater than value of \"maximum\", set \"maximum\" to \"score3\"\n",
        "6. Display the value of *maximum*"
      ],
      "metadata": {
        "id": "XfUe5Od4j-dO"
      }
    },
    {
      "cell_type": "markdown",
      "source": [
        "## Task: Count and display the total number of vowels (a,e,i,o,u) in user's name."
      ],
      "metadata": {
        "id": "v6p6GEkGkdLD"
      }
    },
    {
      "cell_type": "markdown",
      "source": [
        "1. Read the user name and store it in memory by name \"name\"\n",
        "2. Set a memory called \"total vowels\" to 0\n",
        "3. Iterate thorugh each character in the value of \"name\"\n",
        "  1. If the character is **a**, increment the value of \"total vowels\" by 1\n",
        "  2. If the character is **e**, increment the value of \"total vowels\" by 1\n",
        "  3. If the character is **i**, increment the value of \"total vowels\" by 1\n",
        "  4. If the character is **o**, increment the value of \"total vowels\" by 1\n",
        "  5. If the character is **u**, increment the value of \"total vowels\" by 1\n",
        "\n",
        "4. Display the value of \"total vowels\"\n"
      ],
      "metadata": {
        "id": "a3G2NzqglN8c"
      }
    },
    {
      "cell_type": "markdown",
      "source": [
        "## Task: Count and display the occurrence of each vowel in user's name.\n"
      ],
      "metadata": {
        "id": "LFoFUy9Pl2uD"
      }
    },
    {
      "cell_type": "markdown",
      "source": [
        "1. Read the user name and store it in memory by name \"name\"\n",
        "2. Set a memory called \"a\" to 0\n",
        "3. Set a memory called \"e\" to 0\n",
        "4. Set a memory called \"i\" to 0\n",
        "5. Set a memory called \"o\" to 0\n",
        "6. Set a memory called \"u\" to 0\n",
        "7. Iterate thorugh each character in the value of \"name\"\n",
        "  1. If the character is **a**, increment the value of \"a\" by 1\n",
        "  2. If the character is **e**, increment the value of \"e\" by 1\n",
        "  3. If the character is **i**, increment the value of \"i\" by 1\n",
        "  4. If the character is **o**, increment the value of \"o\" by 1\n",
        "  5. If the character is **u**, increment the value of \"u\" by 1\n",
        "\n",
        "8. Display the values of \"a\", \"e\", \"i\", \"o\", \"u\""
      ],
      "metadata": {
        "id": "LZMacIwul0ol"
      }
    },
    {
      "cell_type": "markdown",
      "source": [
        "# **Practice**"
      ],
      "metadata": {
        "id": "GuY04-inozEZ"
      }
    },
    {
      "cell_type": "markdown",
      "source": [
        "## 1. Check if a number is even or odd"
      ],
      "metadata": {
        "id": "inrfXU1GsiY4"
      }
    },
    {
      "cell_type": "markdown",
      "source": [
        "## 2. Calculate tip and display total amount. User provides the bill amount and tip percentage"
      ],
      "metadata": {
        "id": "d8Xe1d_atq9E"
      }
    },
    {
      "cell_type": "markdown",
      "source": [
        "## 3. Create a phonebook with names and phone numbers provided by the user. Once the phonebook is created, display all entries."
      ],
      "metadata": {
        "id": "6sRGEDZ1u8N7"
      }
    }
  ]
}
{
  "nbformat": 4,
  "nbformat_minor": 0,
  "metadata": {
    "colab": {
      "provenance": [],
      "authorship_tag": "ABX9TyN+RBo8Jsvkv12x2xmeP5QO",
      "include_colab_link": true
    },
    "kernelspec": {
      "name": "python3",
      "display_name": "Python 3"
    },
    "language_info": {
      "name": "python"
    }
  },
  "cells": [
    {
      "cell_type": "markdown",
      "metadata": {
        "id": "view-in-github",
        "colab_type": "text"
      },
      "source": [
        "<a href=\"https://colab.research.google.com/github/vinayak2019/UK_Bootcamp/blob/main/2023/Solutions/Functions.ipynb\" target=\"_parent\"><img src=\"https://colab.research.google.com/assets/colab-badge.svg\" alt=\"Open In Colab\"/></a>"
      ]
    },
    {
      "cell_type": "markdown",
      "source": [
        "## Task: Calculate and display the average of three exam scores 36.0, 23.0, and 45.0.\n",
        "\n",
        "#### Pseudo code:\n",
        "\n",
        "1. Read the first exam score from the user and store it in memory by name \"score1\"\n",
        "2. Read the second exam score from the user and store it in memory by name \"score2\"\n",
        "3. Read the third exam score from the user and store it in memory by name \"score3\"\n",
        "4. Set a memory called \"total\" to the sum of \"score1\", \"score2\", and \"score3\"\n",
        "5. Set a memory called \"average\" to the result of dividing \"total\" by 3\n",
        "6. Display the value of memory named *average"
      ],
      "metadata": {
        "id": "xNKcLiN4fNzN"
      }
    },
    {
      "cell_type": "code",
      "execution_count": null,
      "metadata": {
        "id": "DQoTbf3JFOzu"
      },
      "outputs": [],
      "source": [
        "score1 = 36\n",
        "score2 = 23\n",
        "score3 = 45\n",
        "\n",
        "total = score1 + score2 + score3\n",
        "average = total / 3\n",
        "print(average)"
      ]
    },
    {
      "cell_type": "markdown",
      "source": [
        "We can create a function to reuse the code to compute the average of three numbers. They syntax for a function is as follows -\n",
        "\n",
        "```\n",
        "def function_name(input_values_separated_by_comma):\n",
        "  <set of statements>\n",
        "  return <value>\n",
        "```\n",
        "\n",
        "There is no need for function to return anything."
      ],
      "metadata": {
        "id": "Wo7QIvUSfdeh"
      }
    },
    {
      "cell_type": "code",
      "source": [
        "def average(score1, score2, score3):\n",
        "  total = score1 + score2 + score3\n",
        "  average = total / 3\n",
        "  print(average)"
      ],
      "metadata": {
        "id": "H-NWIvxHfbgU"
      },
      "execution_count": null,
      "outputs": []
    },
    {
      "cell_type": "markdown",
      "source": [
        "We can call the function and provide the three arguments."
      ],
      "metadata": {
        "id": "Re3AhqecgkwD"
      }
    },
    {
      "cell_type": "code",
      "source": [
        "average(36,23,45)"
      ],
      "metadata": {
        "id": "wTco7_QhgpG7"
      },
      "execution_count": null,
      "outputs": []
    },
    {
      "cell_type": "markdown",
      "source": [
        "Note that the function average does not return anything, so the value of average cannot be stored in another variable. *input()* is also a function which returns the user entered value. *print()* function does not return anything."
      ],
      "metadata": {
        "id": "YPn8nOwrhGLB"
      }
    },
    {
      "cell_type": "code",
      "source": [
        "avg = average(36,23,45)"
      ],
      "metadata": {
        "id": "g5wuzme8gsWc"
      },
      "execution_count": null,
      "outputs": []
    },
    {
      "cell_type": "code",
      "source": [
        "print(avg)"
      ],
      "metadata": {
        "id": "mv9EUTPlhVld"
      },
      "execution_count": null,
      "outputs": []
    },
    {
      "cell_type": "markdown",
      "source": [
        "We can return the value with a return statement"
      ],
      "metadata": {
        "id": "TBryyBfyhZbi"
      }
    },
    {
      "cell_type": "code",
      "source": [
        "def average_return(score1, score2, score3):\n",
        "  total_val = score1 + score2 + score3\n",
        "  average = total_val / 3\n",
        "  return average"
      ],
      "metadata": {
        "id": "cEKE0OS7hW4E"
      },
      "execution_count": null,
      "outputs": []
    },
    {
      "cell_type": "code",
      "source": [
        "avg = average_return(36,23,45)\n",
        "print(avg)"
      ],
      "metadata": {
        "id": "mENg4XiChikK"
      },
      "execution_count": null,
      "outputs": []
    },
    {
      "cell_type": "markdown",
      "source": [
        "The variables in functions are local, unless specified. As total_val is only defined within the function, so we get an error if we look for its value."
      ],
      "metadata": {
        "id": "nI0wzTgzkAGT"
      }
    },
    {
      "cell_type": "code",
      "source": [
        "print(total_val)"
      ],
      "metadata": {
        "id": "eshQnl1Vjv1J"
      },
      "execution_count": null,
      "outputs": []
    },
    {
      "cell_type": "markdown",
      "source": [
        "# **Practice**"
      ],
      "metadata": {
        "id": "BhP5X1OTiJdq"
      }
    },
    {
      "cell_type": "markdown",
      "source": [
        "## Create function \"sum\" to return the sum of two numbers"
      ],
      "metadata": {
        "id": "IWiQqI8pjQIc"
      }
    },
    {
      "cell_type": "code",
      "source": [
        "def sum(a,b):\n",
        "  return a + b\n"
      ],
      "metadata": {
        "id": "A_6pumjzjnSv"
      },
      "execution_count": null,
      "outputs": []
    },
    {
      "cell_type": "markdown",
      "source": [
        "## Create function \"maximum\" to return the maximum of three exam scores\n"
      ],
      "metadata": {
        "id": "ZCefYmQCiT7D"
      }
    },
    {
      "cell_type": "code",
      "source": [
        "def maximum(a,b,c):\n",
        "  max = a\n",
        "  if b > max:\n",
        "    max = b\n",
        "  if c > max:\n",
        "    max = c\n",
        "\n",
        "  return max"
      ],
      "metadata": {
        "id": "3iF7bon8iwwh"
      },
      "execution_count": null,
      "outputs": []
    },
    {
      "cell_type": "markdown",
      "source": [
        "## Create function \"tip_calculator\" to return tip and total amount. User provides the bill amount and tip percentage\n",
        "\n",
        "Hint: separate the return values by comma."
      ],
      "metadata": {
        "id": "rh-pLIiiixSI"
      }
    },
    {
      "cell_type": "code",
      "source": [
        "def tip_calculator(bill_amount, tip_percent):\n",
        "  tip_amount = bill_amount * tip_percent / 100\n",
        "  total_amount = bill_amount + tip_amount\n",
        "  return tip_amount, total_amount"
      ],
      "metadata": {
        "id": "2FYrT43ihnY_"
      },
      "execution_count": null,
      "outputs": []
    }
  ]
}
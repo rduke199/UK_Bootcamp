{
  "nbformat": 4,
  "nbformat_minor": 0,
  "metadata": {
    "colab": {
      "provenance": [],
      "collapsed_sections": [],
      "authorship_tag": "ABX9TyO+WpIlhfdTAdHWHkbjMbXu",
      "include_colab_link": true
    },
    "kernelspec": {
      "name": "python3",
      "display_name": "Python 3"
    },
    "language_info": {
      "name": "python"
    }
  },
  "cells": [
    {
      "cell_type": "markdown",
      "metadata": {
        "id": "view-in-github",
        "colab_type": "text"
      },
      "source": [
        "<a href=\"https://colab.research.google.com/github/vinayak2019/UK_Bootcamp/blob/main/ABCs_of_Python_basics.ipynb\" target=\"_parent\"><img src=\"https://colab.research.google.com/assets/colab-badge.svg\" alt=\"Open In Colab\"/></a>"
      ]
    },
    {
      "cell_type": "markdown",
      "metadata": {
        "deletable": false,
        "editable": false,
        "id": "Ua-FJJqbYkC9",
        "nbgrader": {
          "cell_type": "markdown",
          "checksum": "7d33976ff1bc4f51b264f3d8d2fa2c84",
          "grade": false,
          "grade_id": "cell-197a6367350a196b",
          "locked": true,
          "schema_version": 3,
          "solution": false,
          "task": false
        }
      },
      "source": [
        "# **Variables**"
      ]
    },
    {
      "cell_type": "markdown",
      "metadata": {
        "deletable": false,
        "editable": false,
        "id": "4mA7ADTxYzQW",
        "nbgrader": {
          "cell_type": "markdown",
          "checksum": "5241182d61ca024811997c21c21bd0f6",
          "grade": false,
          "grade_id": "cell-a2c3e937510ece6b",
          "locked": true,
          "schema_version": 3,
          "solution": false,
          "task": false
        }
      },
      "source": [
        "Variable name (identifier) cannot start with special character, except '_' or a number. Unlilke static programming languages like C, you can declare varibles as you write the code. some words like print, str, list etc are reserved words and cannot be uesd as variable names.  "
      ]
    },
    {
      "cell_type": "code",
      "metadata": {
        "id": "xHKUG1rlW3LQ"
      },
      "source": [
        "a = \"python\" # valid\n",
        "_a = \"python\" # valid\n",
        "# 1a = \"python\" # not valid\n",
        "# @a = \"python\" # not valid"
      ],
      "execution_count": null,
      "outputs": []
    },
    {
      "cell_type": "markdown",
      "metadata": {
        "deletable": false,
        "editable": false,
        "id": "X6yWZOkAZwLP",
        "nbgrader": {
          "cell_type": "markdown",
          "checksum": "b49ce724ae140b9ac9b24a867dfea03b",
          "grade": false,
          "grade_id": "cell-e1a6a776179c1b6a",
          "locked": true,
          "schema_version": 3,
          "solution": false,
          "task": false
        }
      },
      "source": [
        "# **Data types**"
      ]
    },
    {
      "cell_type": "markdown",
      "metadata": {
        "deletable": false,
        "editable": false,
        "id": "pgeSa-4rZ2Ka",
        "nbgrader": {
          "cell_type": "markdown",
          "checksum": "9534bc18cf3acf298f213e188c51c25d",
          "grade": false,
          "grade_id": "cell-01aab6984b9d9270",
          "locked": true,
          "schema_version": 3,
          "solution": false,
          "task": false
        }
      },
      "source": [
        "Data types are used to identify the type of data stored in a variable. The basic data types int (integers), float (real numbers), str (string of characters), list (can store the other data types as a collection), tuple (similar to a list), dict (keyword associated data-type, Bool (True or False, set ....\n",
        "\n",
        "To check the data type of a variable use the type() function. Some data types are immutable"
      ]
    },
    {
      "cell_type": "code",
      "metadata": {
        "id": "-8GncBJyZZ24"
      },
      "source": [
        "_int = 22\n",
        "_float = 3/4\n",
        "_str = \"python\"\n",
        "_list = [22, 3/4, \"python\"]\n",
        "_dict = {\"int\": 22, \n",
        "         \"float\": 3/4, \n",
        "         \"str\": \"python\",\n",
        "         \"list\": [22, 3/4, \"python\"]\n",
        "         }\n",
        "_tuple = (22,3/4,\"python\")\n",
        "\n",
        "type(_dict)"
      ],
      "execution_count": null,
      "outputs": []
    },
    {
      "cell_type": "markdown",
      "metadata": {
        "deletable": false,
        "editable": false,
        "id": "YIOtH9ttApAQ",
        "nbgrader": {
          "cell_type": "markdown",
          "checksum": "cb33e28c3d389a04896516797c224070",
          "grade": false,
          "grade_id": "cell-d1da67aadb6e393c",
          "locked": true,
          "schema_version": 3,
          "solution": false,
          "task": false
        }
      },
      "source": [
        "Subscripting to acces the items wihtin a dict, list or tuple."
      ]
    },
    {
      "cell_type": "code",
      "metadata": {
        "deletable": false,
        "editable": false,
        "id": "bBG6VcINArl-",
        "nbgrader": {
          "cell_type": "code",
          "checksum": "4043def684e38347e529dd2032defebe",
          "grade": false,
          "grade_id": "cell-39c369940835707f",
          "locked": true,
          "schema_version": 3,
          "solution": false,
          "task": false
        }
      },
      "source": [
        "# first item of the list. The index starts with 0\n",
        "print(\"First item of the list \",_list[0]) \n",
        "print(\"First item of the tuple \", _tuple[0]) \n",
        "print(\"Item corresponding to keyword float \",_dict[\"float\"])"
      ],
      "execution_count": null,
      "outputs": []
    },
    {
      "cell_type": "markdown",
      "metadata": {
        "deletable": false,
        "editable": false,
        "id": "nNbzNv_VAKjZ",
        "nbgrader": {
          "cell_type": "markdown",
          "checksum": "c3471af1cfae2dbfe055a92da1be312c",
          "grade": false,
          "grade_id": "cell-bd1800f8fc3d0ef6",
          "locked": true,
          "schema_version": 3,
          "solution": false,
          "task": false
        }
      },
      "source": [
        "Tuples are immutable while lists are mutable"
      ]
    },
    {
      "cell_type": "code",
      "metadata": {
        "id": "nmCxINHq_19S"
      },
      "source": [
        "_list[0] = 25\n",
        "print(\"Updated list is \", _list)\n",
        "\n",
        "# uncomment the statement below to see the error\n",
        "#_tuple[0] = 25  \n",
        "print(\"Updated tuple is \", _tuple)"
      ],
      "execution_count": null,
      "outputs": []
    },
    {
      "cell_type": "markdown",
      "metadata": {
        "deletable": false,
        "editable": false,
        "id": "Teyf8KhUE1_q",
        "nbgrader": {
          "cell_type": "markdown",
          "checksum": "2029b2c7b76cf77a491ee038e47dcf14",
          "grade": false,
          "grade_id": "cell-52f69922ebc9134a",
          "locked": true,
          "schema_version": 3,
          "solution": false,
          "task": false
        }
      },
      "source": [
        "Type casting is used to convert between data types. Not possible for all data types"
      ]
    },
    {
      "cell_type": "code",
      "metadata": {
        "id": "r9ENsU55E1oO"
      },
      "source": [
        "print(\"Float to string: \\nBefore --> \", type(_float), \n",
        "      \"\\nAfter --> \",type(str(_float)))"
      ],
      "execution_count": null,
      "outputs": []
    },
    {
      "cell_type": "markdown",
      "source": [
        "## Exercise\n",
        "\n",
        "For **your_list** below, perform the following operations -\n",
        "\n",
        "\n",
        "1.   Get the third element of the list and save it to the variable **third**\n",
        "2.   Determine the type of the first element\n",
        "3. Get the last_name value and save it to the variable **lastname**\n",
        "\n"
      ],
      "metadata": {
        "id": "Axk5Guy-6W_z"
      }
    },
    {
      "cell_type": "code",
      "source": [
        "your_list = [\"UK\",\"python\",100, 9.30,{\"first_name\":\"James\",\"last_name\":\"Doe\"}]"
      ],
      "metadata": {
        "id": "HZQkUzi767tT"
      },
      "execution_count": null,
      "outputs": []
    },
    {
      "cell_type": "code",
      "source": [
        "# Task 1"
      ],
      "metadata": {
        "id": "RtbYWTTk7ztx"
      },
      "execution_count": null,
      "outputs": []
    },
    {
      "cell_type": "code",
      "source": [
        "# Task 3"
      ],
      "metadata": {
        "id": "_0V6-UJ173p7"
      },
      "execution_count": null,
      "outputs": []
    },
    {
      "cell_type": "code",
      "source": [
        "# Task 3"
      ],
      "metadata": {
        "id": "yT4YbMW372Ye"
      },
      "execution_count": null,
      "outputs": []
    },
    {
      "cell_type": "markdown",
      "metadata": {
        "deletable": false,
        "editable": false,
        "id": "50PQyNSa9Ap6",
        "nbgrader": {
          "cell_type": "markdown",
          "checksum": "6ba34e8f6daa171326d9c83d7f2b11d9",
          "grade": false,
          "grade_id": "cell-2e17a7c26da339f2",
          "locked": true,
          "schema_version": 3,
          "solution": false,
          "task": false
        }
      },
      "source": [
        "# **Operators**"
      ]
    },
    {
      "cell_type": "markdown",
      "metadata": {
        "deletable": false,
        "editable": false,
        "id": "6XXBY7pR9Fsv",
        "nbgrader": {
          "cell_type": "markdown",
          "checksum": "8368e13ed58a77943b2f0282d44e517b",
          "grade": false,
          "grade_id": "cell-a915056e88222f7e",
          "locked": true,
          "schema_version": 3,
          "solution": false,
          "task": false
        }
      },
      "source": [
        "\n",
        "\n",
        "1.   Assignment: \"**=**\"\n",
        "2.   Comparison: \"**==**\" (equals); \"**>**\" (greater than); \"**>=**\" (greater than or equal to); \"**!=**\" (not equal to)\n",
        "3.   Logical: \"**and**\", \"**or**\" and \"**not**\"\n",
        "4. Arithemetic: \"**+**\" (add), \"**-**\" (subtract),  \"**/**\" (divide), \"**%**\" (modulo, give the remainder), \"******\" (power), \"+=\" (increment)\n",
        "\n",
        "\n"
      ]
    },
    {
      "cell_type": "code",
      "metadata": {
        "id": "op8epl42aXp_"
      },
      "source": [
        "print(\"3 > 4 ---->\", 3 > 4)\n",
        "print(\"3 == 4 ---->\", 3 == 4)\n",
        "print(\"3 != 4 ---->\", 3 != 4)\n",
        "print(\"6 % 4 ---->\", 6 % 4)\n",
        "print(\"2**5 ---->\", 2**5)"
      ],
      "execution_count": null,
      "outputs": []
    },
    {
      "cell_type": "markdown",
      "metadata": {
        "id": "0RjxNo3crar3"
      },
      "source": [
        "#**EXERCISE** "
      ]
    },
    {
      "cell_type": "markdown",
      "metadata": {
        "id": "2uFhF4Otr6km"
      },
      "source": [
        "Assign x = 12 and then increase the value by 32 without typing “x = 44”. "
      ]
    },
    {
      "cell_type": "code",
      "metadata": {
        "id": "z5xst-uOr3jW"
      },
      "source": [
        "# YOUR CODE HERE"
      ],
      "execution_count": null,
      "outputs": []
    },
    {
      "cell_type": "markdown",
      "metadata": {
        "id": "IFeqePgHp9CR"
      },
      "source": [
        "You are travelling to a country where temperature is measured in Celcius, not Farenheit.The temperature there is 25 degree Celcius. What is the temperature in Farenheit?\n",
        "\n",
        "Hint: (0°C × 9/5) + 32 = 32°F\n"
      ]
    },
    {
      "cell_type": "code",
      "metadata": {
        "id": "RBnYIXUorMsR"
      },
      "source": [
        "# set temperature in Celcius\n",
        "T_Celcius = # YOUR CODE HERE\n",
        "\n",
        "# use formula to covert to Farenheit\n",
        "T_Farenheit = # YOUR CODE HERE\n"
      ],
      "execution_count": null,
      "outputs": []
    },
    {
      "cell_type": "markdown",
      "metadata": {
        "deletable": false,
        "editable": false,
        "id": "gGHp-abd1X6d",
        "nbgrader": {
          "cell_type": "markdown",
          "checksum": "0b249ab4e445d88e2fc67d11ae63434c",
          "grade": false,
          "grade_id": "cell-df0a92fdd04d63b9",
          "locked": true,
          "schema_version": 3,
          "solution": false,
          "task": false
        }
      },
      "source": [
        "# **Selection**"
      ]
    },
    {
      "cell_type": "markdown",
      "metadata": {
        "deletable": false,
        "editable": false,
        "id": "p3AJnCHc2MwH",
        "nbgrader": {
          "cell_type": "markdown",
          "checksum": "d9a1b97d86a3dd1f9041efd98da3240a",
          "grade": false,
          "grade_id": "cell-376028d5cafc43a5",
          "locked": true,
          "schema_version": 3,
          "solution": false,
          "task": false
        }
      },
      "source": [
        "**if ... elif .... else** are used for selecting the code block to be executed based on the condition."
      ]
    },
    {
      "cell_type": "code",
      "metadata": {
        "id": "gBkqI7kV1W2P"
      },
      "source": [
        "# avoid tautology\n",
        "\n",
        "if 5 > 1:\n",
        "  print(\"True\")\n",
        "elif 5 < 5:\n",
        "  print(\"Neither true nor false\")\n",
        "else:\n",
        "  print(\"False\")"
      ],
      "execution_count": null,
      "outputs": []
    },
    {
      "cell_type": "markdown",
      "metadata": {
        "deletable": false,
        "editable": false,
        "id": "fnu1hOCIAlX3",
        "nbgrader": {
          "cell_type": "markdown",
          "checksum": "79e14ad0740d8bf25a39842f4e46ad7e",
          "grade": false,
          "grade_id": "cell-eac6dcb62073ee79",
          "locked": true,
          "schema_version": 3,
          "solution": false,
          "task": false
        }
      },
      "source": [
        "# **Loops**"
      ]
    },
    {
      "cell_type": "markdown",
      "metadata": {
        "deletable": false,
        "editable": false,
        "id": "ZY11PhJ4CeH8",
        "nbgrader": {
          "cell_type": "markdown",
          "checksum": "82ac36729f2dc1dcf764c6b1aa7d84bc",
          "grade": false,
          "grade_id": "cell-dc3703ec4d672aa3",
          "locked": true,
          "schema_version": 3,
          "solution": false,
          "task": false
        }
      },
      "source": [
        "Use \"**for**\" loop when the iterations are know and \"**while**\" when iterations are unknow but a stop point is known. A mis-coded \"**while**\" looop could result in infinite iterations. To avoid such scenerio, use sentinal logic. (http://cs.uky.edu/~keen/115/reading/sentinel-logic.html).\n",
        "\n",
        "\"**for**\" loop iterators could be a list, range(), tuple, enumerate()...\n",
        "\n",
        "**break** is used to exit the loop and **continue** is used for start the next iteration skipping the remainder of the code in the loop. "
      ]
    },
    {
      "cell_type": "code",
      "metadata": {
        "id": "9x376gQs-0E3"
      },
      "source": [
        "# for loop with list\n",
        "print(\"From list\") \n",
        "for i in _list:\n",
        "  print(i)"
      ],
      "execution_count": null,
      "outputs": []
    },
    {
      "cell_type": "code",
      "source": [
        "# for loop with range\n",
        "print(\"\\nFrom range\") \n",
        "for i in range(len(_list)):\n",
        "  print(i)"
      ],
      "metadata": {
        "id": "gjbmYS1-NqiY"
      },
      "execution_count": null,
      "outputs": []
    },
    {
      "cell_type": "code",
      "source": [
        "# for loop with enuerate\n",
        "print(\"\\nFrom enumerate\") \n",
        "for i, j in enumerate(_list):\n",
        "  print(i,j)"
      ],
      "metadata": {
        "id": "hgxt4FQYNohN"
      },
      "execution_count": null,
      "outputs": []
    },
    {
      "cell_type": "code",
      "source": [
        "# for loop over dictionary\n",
        "print(\"\\nFrom dictionary\") \n",
        "for key in _dict.keys():\n",
        "  print(key, _dict[key])"
      ],
      "metadata": {
        "id": "zZ6WFGJtNljY"
      },
      "execution_count": null,
      "outputs": []
    },
    {
      "cell_type": "code",
      "metadata": {
        "id": "BsAAVQ8Q4Ztb"
      },
      "source": [
        "# while loop\n",
        "count = 1\n",
        "while count < 10:\n",
        "  print(count)\n",
        "  count += 1"
      ],
      "execution_count": null,
      "outputs": []
    },
    {
      "cell_type": "markdown",
      "metadata": {
        "deletable": false,
        "editable": false,
        "id": "zy9xhVP-LLll",
        "nbgrader": {
          "cell_type": "markdown",
          "checksum": "7116c0bb1fb0d86996b9ceed3f492a07",
          "grade": false,
          "grade_id": "cell-d1dae48d239de2ce",
          "locked": true,
          "schema_version": 3,
          "solution": false,
          "task": false
        }
      },
      "source": [
        "# **Function**"
      ]
    },
    {
      "cell_type": "markdown",
      "metadata": {
        "deletable": false,
        "editable": false,
        "id": "1ZJsumyVLmVi",
        "nbgrader": {
          "cell_type": "markdown",
          "checksum": "9a27347927bf925dbb6df15a570c4cac",
          "grade": false,
          "grade_id": "cell-cbacb0f7405c1a36",
          "locked": true,
          "schema_version": 3,
          "solution": false,
          "task": false
        }
      },
      "source": [
        "Functions are created when a part of the code is needed more often. A function takes in arguments and runs the statements under it. A function may or may not return a value."
      ]
    },
    {
      "cell_type": "code",
      "source": [
        "# let write a code to sum the elements in a list\n",
        "my_list = [0,1,2,3]\n",
        "\n",
        "# set sum to zero and loop over elements\n",
        "sum = 0\n",
        "for i in my_list:\n",
        "      sum += i\n",
        "print(sum)"
      ],
      "metadata": {
        "id": "sLXQb-ovT-OF"
      },
      "execution_count": null,
      "outputs": []
    },
    {
      "cell_type": "markdown",
      "source": [
        "If we have another list for which we want to compute sum, we will have to write the code. But this can be avoided by creating a function"
      ],
      "metadata": {
        "id": "xah6inY2UdHM"
      }
    },
    {
      "cell_type": "code",
      "metadata": {
        "id": "jMH8AjTwNBYN"
      },
      "source": [
        "def add_elements(function_list):\n",
        "    sum = 0\n",
        "    for i in function_list:\n",
        "      sum += i\n",
        "    return sum\n",
        "\n",
        "mylist = [0,1,2,3]\n",
        "print(\"mylist sum\",add_elements(mylist))\n",
        "\n",
        "yourlist = [5,6,7,8,9]\n",
        "print(\"yourlist sum\",add_elements(yourlist))\n"
      ],
      "execution_count": null,
      "outputs": []
    },
    {
      "cell_type": "markdown",
      "metadata": {
        "id": "RREaHEYDssU0"
      },
      "source": [
        "# **EXERCISE**"
      ]
    },
    {
      "cell_type": "markdown",
      "metadata": {
        "id": "HkY5lkbYsaze"
      },
      "source": [
        "Using the list below, print the entries that start with a vowel or end with a vowel. Vowels - a,e,i,o,u"
      ]
    },
    {
      "cell_type": "code",
      "metadata": {
        "id": "9mkzPEo6sYpF"
      },
      "source": [
        "name_list = [\"Jacob\",\"James\",\"Elvina\",\"Elise\",\"Victor\",\"Abby\",\"Jackie\",\"Beth\",\"Caroline\",\"Dean\",\"Francis\",\"Gary\",\n",
        "             \"Shawn\",\"Mary\",\"Marie\",\"Patrick\",\"Rusty\",\"Tammy\"]\n",
        "\n",
        "# loop over the list and set a condition to print\n",
        "# YOUR CODE HERE"
      ],
      "execution_count": null,
      "outputs": []
    },
    {
      "cell_type": "markdown",
      "metadata": {
        "id": "Pe1ce1ISs2-p"
      },
      "source": [
        "The isotope 137-Cs has a half-life about 30.2 years. Using a while loop, determine\n",
        "how many half-lives until a 500.0 g sample would have to decay until there is less\n",
        "that 10.00 grams left. Create a counter (counter = 0) and add 1 to it each cycle of\n",
        "the while loop to keep count.\n",
        "\n",
        "Hint: In every cycle of the while loop, divide the current amount by 2."
      ]
    },
    {
      "cell_type": "code",
      "metadata": {
        "id": "cRp_w4s_tJPb"
      },
      "source": [
        "# set your initial amount\n",
        "weight = 500\n",
        "\n",
        "# set counter for half life\n",
        "counter = 0\n",
        "\n",
        "# start your while loop. Condition weight is less than 10. Don't forget to update weight in the loop\n",
        "# YOUR CODE HERE"
      ],
      "execution_count": null,
      "outputs": []
    },
    {
      "cell_type": "markdown",
      "metadata": {
        "id": "DIsDzXMXtrun"
      },
      "source": [
        "DNA is composed of two strands of the nucleotides adenine (A), thymine (T),\n",
        "guanine (G), and cytosine (C). The two strands are lined up with adenine always\n",
        "opposite of thymine and guanine opposite cytosine. For example, if one strand is\n",
        "ATGGC, then the opposite strand is TACCG. Write a code that takes in a ATGGC as a string and finds the opposite DNA strand of nucleotides and gives the following output -\n",
        "\n",
        "A-T\n",
        "\n",
        "T-A\n",
        "\n",
        "G-C\n",
        "\n",
        "G-C\n",
        "\n",
        "C-G\n"
      ]
    },
    {
      "cell_type": "code",
      "metadata": {
        "id": "FP2YyH0XuCeU"
      },
      "source": [
        "# set a dictonary with the paring\n",
        "pairing = {\"A\":\"T\",\"T\":\"A\",\"G\":\"C\",\"C\":\"G\"}\n",
        "\n",
        "# set first strand\n",
        "first_strand = [\"A\",\"T\",\"G\",\"C\",\"C\"]\n",
        "\n",
        "# start a for loop and find the match subscripting the pairing dictionary \n",
        "\n",
        "\n"
      ],
      "execution_count": null,
      "outputs": []
    },
    {
      "cell_type": "markdown",
      "metadata": {
        "deletable": false,
        "editable": false,
        "id": "4X9tVDbHPB_Z",
        "nbgrader": {
          "cell_type": "markdown",
          "checksum": "9ba7319da8d3622317760748705546c3",
          "grade": false,
          "grade_id": "cell-8fc20b51f82e13dd",
          "locked": true,
          "schema_version": 3,
          "solution": false,
          "task": false
        }
      },
      "source": [
        "# **Methods**"
      ]
    },
    {
      "cell_type": "markdown",
      "metadata": {
        "deletable": false,
        "editable": false,
        "id": "rT0RDLrrPHUm",
        "nbgrader": {
          "cell_type": "markdown",
          "checksum": "bd9e3175bafd5d4716018993837c4307",
          "grade": false,
          "grade_id": "cell-54522db95d937702",
          "locked": true,
          "schema_version": 3,
          "solution": false,
          "task": false
        }
      },
      "source": [
        "Function operating on a class objects are called methods. Unlike a function which is called by **function_name(arguments)**, the class methods are called with **class_object().method_name()**. Use the dir() function to get all the methods associated with a class object."
      ]
    },
    {
      "cell_type": "code",
      "metadata": {
        "id": "iSQRFX4_PGzO"
      },
      "source": [
        "# functions\n",
        "print(\"This is the print function\")\n",
        "\n",
        "# Example of method. This is a string method that acts on string objects\n",
        "\"PYTHON\".lower()"
      ],
      "execution_count": null,
      "outputs": []
    },
    {
      "cell_type": "markdown",
      "source": [
        "To look at the methods associated with a class object, usr *dir* function"
      ],
      "metadata": {
        "id": "XL_IaBZqSny-"
      }
    },
    {
      "cell_type": "code",
      "source": [
        "x = \"Python\"\n",
        "dir(x)"
      ],
      "metadata": {
        "id": "kdN2MBqQSyhk"
      },
      "execution_count": null,
      "outputs": []
    },
    {
      "cell_type": "markdown",
      "metadata": {
        "id": "Nv1gfdEGxfv4"
      },
      "source": [
        "## **Importing modules**"
      ]
    },
    {
      "cell_type": "markdown",
      "metadata": {
        "id": "TZf0N74QyT8f"
      },
      "source": [
        "**First type of import**: Here you import all definitions\n",
        "\n",
        "Example-->  import random\n",
        "\n",
        "\n",
        "**Second type of import**: Here you import a specific definition\n",
        "\n",
        "Example-->  from random import random"
      ]
    },
    {
      "cell_type": "code",
      "metadata": {
        "id": "A-sU5GBeyED7"
      },
      "source": [
        "# First\n",
        "import math\n",
        "print(math.pi)"
      ],
      "execution_count": null,
      "outputs": []
    },
    {
      "cell_type": "code",
      "metadata": {
        "id": "XMPDbekzy3YX"
      },
      "source": [
        "# Second\n",
        "from math import pi\n",
        "print(pi)"
      ],
      "execution_count": null,
      "outputs": []
    },
    {
      "cell_type": "code",
      "metadata": {
        "id": "pHJV0l4SzBoR"
      },
      "source": [
        "# using a simplfied notation for the modules imported\n",
        "import math as m\n",
        "print(m.pi)"
      ],
      "execution_count": null,
      "outputs": []
    },
    {
      "cell_type": "code",
      "metadata": {
        "id": "8gSq8NZfzPL0"
      },
      "source": [
        "# using a simplfied notation for the modules imported\n",
        "from math import pi as p\n",
        "print(p)"
      ],
      "execution_count": null,
      "outputs": []
    },
    {
      "cell_type": "code",
      "source": [],
      "metadata": {
        "id": "5ikfY2LJTbX_"
      },
      "execution_count": null,
      "outputs": []
    },
    {
      "cell_type": "markdown",
      "source": [
        "# Submit your project description by the end of the session. Use [this link](https://forms.gle/JHPY592mzFkv8deq7)"
      ],
      "metadata": {
        "id": "IX1auRMMeAGn"
      }
    },
    {
      "cell_type": "code",
      "source": [],
      "metadata": {
        "id": "xBBihY4OIAuV"
      },
      "execution_count": null,
      "outputs": []
    }
  ]
}
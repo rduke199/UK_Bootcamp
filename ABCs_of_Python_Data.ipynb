{
  "nbformat": 4,
  "nbformat_minor": 0,
  "metadata": {
    "colab": {
      "provenance": [],
      "collapsed_sections": [],
      "authorship_tag": "ABX9TyOIHnI/fRL+shyfehhxm0wf",
      "include_colab_link": true
    },
    "kernelspec": {
      "name": "python3",
      "display_name": "Python 3"
    },
    "language_info": {
      "name": "python"
    }
  },
  "cells": [
    {
      "cell_type": "markdown",
      "metadata": {
        "id": "view-in-github",
        "colab_type": "text"
      },
      "source": [
        "<a href=\"https://colab.research.google.com/github/vinayak2019/UK_Bootcamp/blob/main/ABCs_of_Python_Data.ipynb\" target=\"_parent\"><img src=\"https://colab.research.google.com/assets/colab-badge.svg\" alt=\"Open In Colab\"/></a>"
      ]
    },
    {
      "cell_type": "markdown",
      "source": [
        "#**Pandas DataFrame**\n",
        "\n",
        "The pandas DataFrame is a table - it has rows with index and columns with headers. Each column is a pandas.Series object The required columnar data can be accessed with dot notation or subscripting. The row data can be accessed with iloc or loc method.\n"
      ],
      "metadata": {
        "id": "Q4gaTsyclQME"
      }
    },
    {
      "cell_type": "code",
      "source": [
        "# Let's import the package\n",
        "import pandas as pd"
      ],
      "metadata": {
        "id": "NvQdT0jxmM5R"
      },
      "execution_count": null,
      "outputs": []
    },
    {
      "cell_type": "markdown",
      "source": [
        "## **Importing Comma Separated Files (CSV)**\n",
        "\n",
        "We will use the *read_csv* function from pandas to read a CSV file. You can even read Excel file and other formats"
      ],
      "metadata": {
        "id": "yJiS65fglfRv"
      }
    },
    {
      "cell_type": "code",
      "source": [
        "# get the CSV file from GitHub\n",
        "! git clone https://github.com/vinayak2019/UK_Bootcamp.git"
      ],
      "metadata": {
        "id": "k8dYjRtHl4Of"
      },
      "execution_count": null,
      "outputs": []
    },
    {
      "cell_type": "code",
      "execution_count": null,
      "metadata": {
        "colab": {
          "base_uri": "https://localhost:8080/",
          "height": 206
        },
        "id": "ltMLsSRHk7ej",
        "outputId": "8090ce85-c41e-468d-ceb5-00aca764337d"
      },
      "outputs": [
        {
          "output_type": "execute_result",
          "data": {
            "text/plain": [
              "  First_Name     Last_Name                                 Major  \\\n",
              "0     Bonnie      Williams                      Computer Science   \n",
              "1     Mattie  Allen Thomas                  Computer engineering   \n",
              "2      Sarah           NaN                  Chemical Engineering   \n",
              "3      Tylee   Shackleford                     Civil Engineering   \n",
              "4     Thomas      Colliins  Information Communication Technology   \n",
              "\n",
              "       Education Is_researcher                    Is_programmer  \n",
              "0  Undergraduate            No  Yes - If yes, which language(s)  \n",
              "1  Undergraduate            No                               No  \n",
              "2  Undergraduate            No                               No  \n",
              "3  Undergraduate            No  Yes - If yes, which language(s)  \n",
              "4  Undergraduate            No  Yes - If yes, which language(s)  "
            ],
            "text/html": [
              "\n",
              "  <div id=\"df-7faab67c-df16-4b4a-b1cd-f2a1aabb7fbe\">\n",
              "    <div class=\"colab-df-container\">\n",
              "      <div>\n",
              "<style scoped>\n",
              "    .dataframe tbody tr th:only-of-type {\n",
              "        vertical-align: middle;\n",
              "    }\n",
              "\n",
              "    .dataframe tbody tr th {\n",
              "        vertical-align: top;\n",
              "    }\n",
              "\n",
              "    .dataframe thead th {\n",
              "        text-align: right;\n",
              "    }\n",
              "</style>\n",
              "<table border=\"1\" class=\"dataframe\">\n",
              "  <thead>\n",
              "    <tr style=\"text-align: right;\">\n",
              "      <th></th>\n",
              "      <th>First_Name</th>\n",
              "      <th>Last_Name</th>\n",
              "      <th>Major</th>\n",
              "      <th>Education</th>\n",
              "      <th>Is_researcher</th>\n",
              "      <th>Is_programmer</th>\n",
              "    </tr>\n",
              "  </thead>\n",
              "  <tbody>\n",
              "    <tr>\n",
              "      <th>0</th>\n",
              "      <td>Bonnie</td>\n",
              "      <td>Williams</td>\n",
              "      <td>Computer Science</td>\n",
              "      <td>Undergraduate</td>\n",
              "      <td>No</td>\n",
              "      <td>Yes - If yes, which language(s)</td>\n",
              "    </tr>\n",
              "    <tr>\n",
              "      <th>1</th>\n",
              "      <td>Mattie</td>\n",
              "      <td>Allen Thomas</td>\n",
              "      <td>Computer engineering</td>\n",
              "      <td>Undergraduate</td>\n",
              "      <td>No</td>\n",
              "      <td>No</td>\n",
              "    </tr>\n",
              "    <tr>\n",
              "      <th>2</th>\n",
              "      <td>Sarah</td>\n",
              "      <td>NaN</td>\n",
              "      <td>Chemical Engineering</td>\n",
              "      <td>Undergraduate</td>\n",
              "      <td>No</td>\n",
              "      <td>No</td>\n",
              "    </tr>\n",
              "    <tr>\n",
              "      <th>3</th>\n",
              "      <td>Tylee</td>\n",
              "      <td>Shackleford</td>\n",
              "      <td>Civil Engineering</td>\n",
              "      <td>Undergraduate</td>\n",
              "      <td>No</td>\n",
              "      <td>Yes - If yes, which language(s)</td>\n",
              "    </tr>\n",
              "    <tr>\n",
              "      <th>4</th>\n",
              "      <td>Thomas</td>\n",
              "      <td>Colliins</td>\n",
              "      <td>Information Communication Technology</td>\n",
              "      <td>Undergraduate</td>\n",
              "      <td>No</td>\n",
              "      <td>Yes - If yes, which language(s)</td>\n",
              "    </tr>\n",
              "  </tbody>\n",
              "</table>\n",
              "</div>\n",
              "      <button class=\"colab-df-convert\" onclick=\"convertToInteractive('df-7faab67c-df16-4b4a-b1cd-f2a1aabb7fbe')\"\n",
              "              title=\"Convert this dataframe to an interactive table.\"\n",
              "              style=\"display:none;\">\n",
              "        \n",
              "  <svg xmlns=\"http://www.w3.org/2000/svg\" height=\"24px\"viewBox=\"0 0 24 24\"\n",
              "       width=\"24px\">\n",
              "    <path d=\"M0 0h24v24H0V0z\" fill=\"none\"/>\n",
              "    <path d=\"M18.56 5.44l.94 2.06.94-2.06 2.06-.94-2.06-.94-.94-2.06-.94 2.06-2.06.94zm-11 1L8.5 8.5l.94-2.06 2.06-.94-2.06-.94L8.5 2.5l-.94 2.06-2.06.94zm10 10l.94 2.06.94-2.06 2.06-.94-2.06-.94-.94-2.06-.94 2.06-2.06.94z\"/><path d=\"M17.41 7.96l-1.37-1.37c-.4-.4-.92-.59-1.43-.59-.52 0-1.04.2-1.43.59L10.3 9.45l-7.72 7.72c-.78.78-.78 2.05 0 2.83L4 21.41c.39.39.9.59 1.41.59.51 0 1.02-.2 1.41-.59l7.78-7.78 2.81-2.81c.8-.78.8-2.07 0-2.86zM5.41 20L4 18.59l7.72-7.72 1.47 1.35L5.41 20z\"/>\n",
              "  </svg>\n",
              "      </button>\n",
              "      \n",
              "  <style>\n",
              "    .colab-df-container {\n",
              "      display:flex;\n",
              "      flex-wrap:wrap;\n",
              "      gap: 12px;\n",
              "    }\n",
              "\n",
              "    .colab-df-convert {\n",
              "      background-color: #E8F0FE;\n",
              "      border: none;\n",
              "      border-radius: 50%;\n",
              "      cursor: pointer;\n",
              "      display: none;\n",
              "      fill: #1967D2;\n",
              "      height: 32px;\n",
              "      padding: 0 0 0 0;\n",
              "      width: 32px;\n",
              "    }\n",
              "\n",
              "    .colab-df-convert:hover {\n",
              "      background-color: #E2EBFA;\n",
              "      box-shadow: 0px 1px 2px rgba(60, 64, 67, 0.3), 0px 1px 3px 1px rgba(60, 64, 67, 0.15);\n",
              "      fill: #174EA6;\n",
              "    }\n",
              "\n",
              "    [theme=dark] .colab-df-convert {\n",
              "      background-color: #3B4455;\n",
              "      fill: #D2E3FC;\n",
              "    }\n",
              "\n",
              "    [theme=dark] .colab-df-convert:hover {\n",
              "      background-color: #434B5C;\n",
              "      box-shadow: 0px 1px 3px 1px rgba(0, 0, 0, 0.15);\n",
              "      filter: drop-shadow(0px 1px 2px rgba(0, 0, 0, 0.3));\n",
              "      fill: #FFFFFF;\n",
              "    }\n",
              "  </style>\n",
              "\n",
              "      <script>\n",
              "        const buttonEl =\n",
              "          document.querySelector('#df-7faab67c-df16-4b4a-b1cd-f2a1aabb7fbe button.colab-df-convert');\n",
              "        buttonEl.style.display =\n",
              "          google.colab.kernel.accessAllowed ? 'block' : 'none';\n",
              "\n",
              "        async function convertToInteractive(key) {\n",
              "          const element = document.querySelector('#df-7faab67c-df16-4b4a-b1cd-f2a1aabb7fbe');\n",
              "          const dataTable =\n",
              "            await google.colab.kernel.invokeFunction('convertToInteractive',\n",
              "                                                     [key], {});\n",
              "          if (!dataTable) return;\n",
              "\n",
              "          const docLinkHtml = 'Like what you see? Visit the ' +\n",
              "            '<a target=\"_blank\" href=https://colab.research.google.com/notebooks/data_table.ipynb>data table notebook</a>'\n",
              "            + ' to learn more about interactive tables.';\n",
              "          element.innerHTML = '';\n",
              "          dataTable['output_type'] = 'display_data';\n",
              "          await google.colab.output.renderOutput(dataTable, element);\n",
              "          const docLink = document.createElement('div');\n",
              "          docLink.innerHTML = docLinkHtml;\n",
              "          element.appendChild(docLink);\n",
              "        }\n",
              "      </script>\n",
              "    </div>\n",
              "  </div>\n",
              "  "
            ]
          },
          "metadata": {},
          "execution_count": 5
        }
      ],
      "source": [
        "# Read the CSV file\n",
        "df = pd.read_csv(\"UK_Bootcamp.csv\")\n",
        "\n",
        "# Look at the first 5 entries with 'head' method\n",
        "df.head()"
      ]
    },
    {
      "cell_type": "markdown",
      "source": [
        "## **Data analysis**"
      ],
      "metadata": {
        "id": "oE-WVeTTmmDt"
      }
    },
    {
      "cell_type": "code",
      "source": [
        "# Take a look at all the column names with columns method\n",
        "df.columns"
      ],
      "metadata": {
        "id": "yc0LiRfXmKFP"
      },
      "execution_count": null,
      "outputs": []
    },
    {
      "cell_type": "code",
      "source": [
        "# Get the column with Education and save it to education\n",
        "education = df[\"Education\"]\n",
        "education"
      ],
      "metadata": {
        "colab": {
          "base_uri": "https://localhost:8080/"
        },
        "id": "JJvV3fAym2NV",
        "outputId": "53178d6c-9897-403d-8954-08d32bcf926a"
      },
      "execution_count": null,
      "outputs": [
        {
          "output_type": "execute_result",
          "data": {
            "text/plain": [
              "0     Undergraduate\n",
              "1     Undergraduate\n",
              "2     Undergraduate\n",
              "3     Undergraduate\n",
              "4     Undergraduate\n",
              "5       High school\n",
              "6     Undergraduate\n",
              "7          Graduate\n",
              "8     Undergraduate\n",
              "9     Undergraduate\n",
              "10         Graduate\n",
              "11      High school\n",
              "12      High school\n",
              "13    Undergraduate\n",
              "14    Undergraduate\n",
              "15         Graduate\n",
              "16         Graduate\n",
              "17    Undergraduate\n",
              "18    Undergraduate\n",
              "19    Undergraduate\n",
              "20         Graduate\n",
              "21         Graduate\n",
              "22         Graduate\n",
              "23         Graduate\n",
              "24    Undergraduate\n",
              "25    Undergraduate\n",
              "26    Undergraduate\n",
              "27         Graduate\n",
              "28         Graduate\n",
              "29         Graduate\n",
              "30    Undergraduate\n",
              "31    Undergraduate\n",
              "32         Graduate\n",
              "33         Graduate\n",
              "34    Undergraduate\n",
              "35    Undergraduate\n",
              "36              NaN\n",
              "37              NaN\n",
              "38         Graduate\n",
              "39    Undergraduate\n",
              "40         Graduate\n",
              "41    Undergraduate\n",
              "42    Undergraduate\n",
              "Name: Education, dtype: object"
            ]
          },
          "metadata": {},
          "execution_count": 7
        }
      ]
    },
    {
      "cell_type": "markdown",
      "source": [
        "We have some missing values - NaN. Let's remove those values with dropna\n",
        "\n"
      ],
      "metadata": {
        "id": "0uKsMKfsnb-P"
      }
    },
    {
      "cell_type": "code",
      "source": [
        "# Drop the rows with NaN in atomic_radius column\n",
        "education_clean = df[\"Education\"].dropna()\n",
        "education_clean"
      ],
      "metadata": {
        "colab": {
          "base_uri": "https://localhost:8080/"
        },
        "id": "xEDAMbranbf8",
        "outputId": "f2f799ac-bcca-4a53-deb6-273be2c4be92"
      },
      "execution_count": null,
      "outputs": [
        {
          "output_type": "execute_result",
          "data": {
            "text/plain": [
              "0     Undergraduate\n",
              "1     Undergraduate\n",
              "2     Undergraduate\n",
              "3     Undergraduate\n",
              "4     Undergraduate\n",
              "5       High school\n",
              "6     Undergraduate\n",
              "7          Graduate\n",
              "8     Undergraduate\n",
              "9     Undergraduate\n",
              "10         Graduate\n",
              "11      High school\n",
              "12      High school\n",
              "13    Undergraduate\n",
              "14    Undergraduate\n",
              "15         Graduate\n",
              "16         Graduate\n",
              "17    Undergraduate\n",
              "18    Undergraduate\n",
              "19    Undergraduate\n",
              "20         Graduate\n",
              "21         Graduate\n",
              "22         Graduate\n",
              "23         Graduate\n",
              "24    Undergraduate\n",
              "25    Undergraduate\n",
              "26    Undergraduate\n",
              "27         Graduate\n",
              "28         Graduate\n",
              "29         Graduate\n",
              "30    Undergraduate\n",
              "31    Undergraduate\n",
              "32         Graduate\n",
              "33         Graduate\n",
              "34    Undergraduate\n",
              "35    Undergraduate\n",
              "38         Graduate\n",
              "39    Undergraduate\n",
              "40         Graduate\n",
              "41    Undergraduate\n",
              "42    Undergraduate\n",
              "Name: Education, dtype: object"
            ]
          },
          "metadata": {},
          "execution_count": 9
        }
      ]
    },
    {
      "cell_type": "markdown",
      "source": [
        "The default index starts with 0. We will set the *First_Name* symbol column as the index.\n"
      ],
      "metadata": {
        "id": "H_9XtatznsRy"
      }
    },
    {
      "cell_type": "code",
      "source": [
        "new_df = df.set_index(\"First_Name\")\n",
        "new_df.head()"
      ],
      "metadata": {
        "colab": {
          "base_uri": "https://localhost:8080/",
          "height": 237
        },
        "id": "xhjNh4-3m-Ab",
        "outputId": "552489a2-b4f7-4dc7-c6a4-6ca02ec85804"
      },
      "execution_count": null,
      "outputs": [
        {
          "output_type": "execute_result",
          "data": {
            "text/plain": [
              "               Last_Name                                 Major      Education  \\\n",
              "First_Name                                                                      \n",
              "Bonnie          Williams                      Computer Science  Undergraduate   \n",
              "Mattie      Allen Thomas                  Computer engineering  Undergraduate   \n",
              "Sarah                NaN                  Chemical Engineering  Undergraduate   \n",
              "Tylee        Shackleford                     Civil Engineering  Undergraduate   \n",
              "Thomas          Colliins  Information Communication Technology  Undergraduate   \n",
              "\n",
              "           Is_researcher                    Is_programmer  \n",
              "First_Name                                                 \n",
              "Bonnie                No  Yes - If yes, which language(s)  \n",
              "Mattie                No                               No  \n",
              "Sarah                 No                               No  \n",
              "Tylee                 No  Yes - If yes, which language(s)  \n",
              "Thomas                No  Yes - If yes, which language(s)  "
            ],
            "text/html": [
              "\n",
              "  <div id=\"df-fcc09501-c97a-4352-9082-2b0ebbd57f5f\">\n",
              "    <div class=\"colab-df-container\">\n",
              "      <div>\n",
              "<style scoped>\n",
              "    .dataframe tbody tr th:only-of-type {\n",
              "        vertical-align: middle;\n",
              "    }\n",
              "\n",
              "    .dataframe tbody tr th {\n",
              "        vertical-align: top;\n",
              "    }\n",
              "\n",
              "    .dataframe thead th {\n",
              "        text-align: right;\n",
              "    }\n",
              "</style>\n",
              "<table border=\"1\" class=\"dataframe\">\n",
              "  <thead>\n",
              "    <tr style=\"text-align: right;\">\n",
              "      <th></th>\n",
              "      <th>Last_Name</th>\n",
              "      <th>Major</th>\n",
              "      <th>Education</th>\n",
              "      <th>Is_researcher</th>\n",
              "      <th>Is_programmer</th>\n",
              "    </tr>\n",
              "    <tr>\n",
              "      <th>First_Name</th>\n",
              "      <th></th>\n",
              "      <th></th>\n",
              "      <th></th>\n",
              "      <th></th>\n",
              "      <th></th>\n",
              "    </tr>\n",
              "  </thead>\n",
              "  <tbody>\n",
              "    <tr>\n",
              "      <th>Bonnie</th>\n",
              "      <td>Williams</td>\n",
              "      <td>Computer Science</td>\n",
              "      <td>Undergraduate</td>\n",
              "      <td>No</td>\n",
              "      <td>Yes - If yes, which language(s)</td>\n",
              "    </tr>\n",
              "    <tr>\n",
              "      <th>Mattie</th>\n",
              "      <td>Allen Thomas</td>\n",
              "      <td>Computer engineering</td>\n",
              "      <td>Undergraduate</td>\n",
              "      <td>No</td>\n",
              "      <td>No</td>\n",
              "    </tr>\n",
              "    <tr>\n",
              "      <th>Sarah</th>\n",
              "      <td>NaN</td>\n",
              "      <td>Chemical Engineering</td>\n",
              "      <td>Undergraduate</td>\n",
              "      <td>No</td>\n",
              "      <td>No</td>\n",
              "    </tr>\n",
              "    <tr>\n",
              "      <th>Tylee</th>\n",
              "      <td>Shackleford</td>\n",
              "      <td>Civil Engineering</td>\n",
              "      <td>Undergraduate</td>\n",
              "      <td>No</td>\n",
              "      <td>Yes - If yes, which language(s)</td>\n",
              "    </tr>\n",
              "    <tr>\n",
              "      <th>Thomas</th>\n",
              "      <td>Colliins</td>\n",
              "      <td>Information Communication Technology</td>\n",
              "      <td>Undergraduate</td>\n",
              "      <td>No</td>\n",
              "      <td>Yes - If yes, which language(s)</td>\n",
              "    </tr>\n",
              "  </tbody>\n",
              "</table>\n",
              "</div>\n",
              "      <button class=\"colab-df-convert\" onclick=\"convertToInteractive('df-fcc09501-c97a-4352-9082-2b0ebbd57f5f')\"\n",
              "              title=\"Convert this dataframe to an interactive table.\"\n",
              "              style=\"display:none;\">\n",
              "        \n",
              "  <svg xmlns=\"http://www.w3.org/2000/svg\" height=\"24px\"viewBox=\"0 0 24 24\"\n",
              "       width=\"24px\">\n",
              "    <path d=\"M0 0h24v24H0V0z\" fill=\"none\"/>\n",
              "    <path d=\"M18.56 5.44l.94 2.06.94-2.06 2.06-.94-2.06-.94-.94-2.06-.94 2.06-2.06.94zm-11 1L8.5 8.5l.94-2.06 2.06-.94-2.06-.94L8.5 2.5l-.94 2.06-2.06.94zm10 10l.94 2.06.94-2.06 2.06-.94-2.06-.94-.94-2.06-.94 2.06-2.06.94z\"/><path d=\"M17.41 7.96l-1.37-1.37c-.4-.4-.92-.59-1.43-.59-.52 0-1.04.2-1.43.59L10.3 9.45l-7.72 7.72c-.78.78-.78 2.05 0 2.83L4 21.41c.39.39.9.59 1.41.59.51 0 1.02-.2 1.41-.59l7.78-7.78 2.81-2.81c.8-.78.8-2.07 0-2.86zM5.41 20L4 18.59l7.72-7.72 1.47 1.35L5.41 20z\"/>\n",
              "  </svg>\n",
              "      </button>\n",
              "      \n",
              "  <style>\n",
              "    .colab-df-container {\n",
              "      display:flex;\n",
              "      flex-wrap:wrap;\n",
              "      gap: 12px;\n",
              "    }\n",
              "\n",
              "    .colab-df-convert {\n",
              "      background-color: #E8F0FE;\n",
              "      border: none;\n",
              "      border-radius: 50%;\n",
              "      cursor: pointer;\n",
              "      display: none;\n",
              "      fill: #1967D2;\n",
              "      height: 32px;\n",
              "      padding: 0 0 0 0;\n",
              "      width: 32px;\n",
              "    }\n",
              "\n",
              "    .colab-df-convert:hover {\n",
              "      background-color: #E2EBFA;\n",
              "      box-shadow: 0px 1px 2px rgba(60, 64, 67, 0.3), 0px 1px 3px 1px rgba(60, 64, 67, 0.15);\n",
              "      fill: #174EA6;\n",
              "    }\n",
              "\n",
              "    [theme=dark] .colab-df-convert {\n",
              "      background-color: #3B4455;\n",
              "      fill: #D2E3FC;\n",
              "    }\n",
              "\n",
              "    [theme=dark] .colab-df-convert:hover {\n",
              "      background-color: #434B5C;\n",
              "      box-shadow: 0px 1px 3px 1px rgba(0, 0, 0, 0.15);\n",
              "      filter: drop-shadow(0px 1px 2px rgba(0, 0, 0, 0.3));\n",
              "      fill: #FFFFFF;\n",
              "    }\n",
              "  </style>\n",
              "\n",
              "      <script>\n",
              "        const buttonEl =\n",
              "          document.querySelector('#df-fcc09501-c97a-4352-9082-2b0ebbd57f5f button.colab-df-convert');\n",
              "        buttonEl.style.display =\n",
              "          google.colab.kernel.accessAllowed ? 'block' : 'none';\n",
              "\n",
              "        async function convertToInteractive(key) {\n",
              "          const element = document.querySelector('#df-fcc09501-c97a-4352-9082-2b0ebbd57f5f');\n",
              "          const dataTable =\n",
              "            await google.colab.kernel.invokeFunction('convertToInteractive',\n",
              "                                                     [key], {});\n",
              "          if (!dataTable) return;\n",
              "\n",
              "          const docLinkHtml = 'Like what you see? Visit the ' +\n",
              "            '<a target=\"_blank\" href=https://colab.research.google.com/notebooks/data_table.ipynb>data table notebook</a>'\n",
              "            + ' to learn more about interactive tables.';\n",
              "          element.innerHTML = '';\n",
              "          dataTable['output_type'] = 'display_data';\n",
              "          await google.colab.output.renderOutput(dataTable, element);\n",
              "          const docLink = document.createElement('div');\n",
              "          docLink.innerHTML = docLinkHtml;\n",
              "          element.appendChild(docLink);\n",
              "        }\n",
              "      </script>\n",
              "    </div>\n",
              "  </div>\n",
              "  "
            ]
          },
          "metadata": {},
          "execution_count": 10
        }
      ]
    },
    {
      "cell_type": "code",
      "source": [
        "# To get the first row let's use loc method\n",
        "new_df.loc[\"Bonnie\"]"
      ],
      "metadata": {
        "colab": {
          "base_uri": "https://localhost:8080/"
        },
        "id": "gDCb2JCPnHFW",
        "outputId": "d10b0b63-0b96-41d7-9543-cb7516a68aff"
      },
      "execution_count": null,
      "outputs": [
        {
          "output_type": "execute_result",
          "data": {
            "text/plain": [
              "Last_Name                               Williams\n",
              "Major                           Computer Science\n",
              "Education                          Undergraduate\n",
              "Is_researcher                                 No\n",
              "Is_programmer    Yes - If yes, which language(s)\n",
              "Name: Bonnie, dtype: object"
            ]
          },
          "metadata": {},
          "execution_count": 15
        }
      ]
    },
    {
      "cell_type": "code",
      "source": [
        "# Unlike loc which checks for the value in the index, iloc uses the row number\n",
        "# row number starts with 0\n",
        "new_df.iloc[0]"
      ],
      "metadata": {
        "colab": {
          "base_uri": "https://localhost:8080/"
        },
        "id": "qB7YpXyJok0V",
        "outputId": "173d0382-1569-47fa-b27c-522ca43bb40b"
      },
      "execution_count": null,
      "outputs": [
        {
          "output_type": "execute_result",
          "data": {
            "text/plain": [
              "Last_Name                               Williams\n",
              "Major                           Computer Science\n",
              "Education                          Undergraduate\n",
              "Is_researcher                                 No\n",
              "Is_programmer    Yes - If yes, which language(s)\n",
              "Name: Bonnie, dtype: object"
            ]
          },
          "metadata": {},
          "execution_count": 16
        }
      ]
    },
    {
      "cell_type": "markdown",
      "source": [
        "## **Exercise**"
      ],
      "metadata": {
        "id": "1AFLLr2ZpBJR"
      }
    },
    {
      "cell_type": "markdown",
      "source": [
        "Count the number of participants whi are not researchers in the original dataframe.\n",
        "\n",
        "\n",
        "Hint: Get the column is_researcher and use a for loop. Within the for loop use a if condition to check whether the entry is No and update a counter\n"
      ],
      "metadata": {
        "id": "CZBW4W6hpGSL"
      }
    },
    {
      "cell_type": "code",
      "source": [
        "# YOUR CODE HERE"
      ],
      "metadata": {
        "id": "l-ABaPmrotaP"
      },
      "execution_count": null,
      "outputs": []
    },
    {
      "cell_type": "markdown",
      "source": [
        "Set the column with Last_Name as the index\n"
      ],
      "metadata": {
        "id": "UOtvLngbqNT7"
      }
    },
    {
      "cell_type": "code",
      "source": [
        "# YOUR CODE HERE"
      ],
      "metadata": {
        "id": "85FKIAXgpenQ"
      },
      "execution_count": null,
      "outputs": []
    },
    {
      "cell_type": "markdown",
      "source": [
        "## **Groupby method**\n"
      ],
      "metadata": {
        "id": "QlGEw5h5qy4I"
      }
    },
    {
      "cell_type": "markdown",
      "source": [
        "This method allows you to group data. A categorical variable is generally used.\n"
      ],
      "metadata": {
        "id": "LyrTqPtiq3XN"
      }
    },
    {
      "cell_type": "code",
      "source": [
        "# Group participants by Is_programmer\n",
        "# Here we first group data by Is_programmer and get the entries in No.\n",
        "# The resultant object is another dataframe\n",
        "\n",
        "is_programmer_group = df.groupby(\"Is_programmer\")\n",
        "not_programmer = is_programmer_group.get_group(\"No\")\n",
        "not_programmer"
      ],
      "metadata": {
        "colab": {
          "base_uri": "https://localhost:8080/",
          "height": 739
        },
        "id": "eVFoxmV9q0-e",
        "outputId": "0966c547-684a-4153-920e-15b8497dd01b"
      },
      "execution_count": null,
      "outputs": [
        {
          "output_type": "execute_result",
          "data": {
            "text/plain": [
              "           First_Name     Last_Name                                   Major  \\\n",
              "1              Mattie  Allen Thomas                    Computer engineering   \n",
              "2               Sarah           NaN                    Chemical Engineering   \n",
              "6               Chloe         Arpin                   Biology and Chemistry   \n",
              "9            Sindhura          Yang                            Neuroscience   \n",
              "11              Angel        Dotsey                            Neuroscience   \n",
              "12             Sourav        Rogers                                     NaN   \n",
              "15             Jeremy           NaN                               Chemistry   \n",
              "16             Sophia        Choate                             Linguistics   \n",
              "17             Lauren         Rooks  Agricultural and Medical Biotechnology   \n",
              "18              Great          Rios                   Materials Engineering   \n",
              "19          Leighanne        Havard                                 Biology   \n",
              "22              Devan        Parris                          MBA/Leadership   \n",
              "25                Ana      Mitchell         Political Science and Economics   \n",
              "28  Christian Dzidula      Brentzel                                Medicine   \n",
              "29             Khamil        Kwenga                               Chemistry   \n",
              "30           Rosbelly          Yang                            Neuroscience   \n",
              "31               Mary       Sampaio  Agricultural and Medical Biotechnology   \n",
              "32             Charis      Winstead                             Linguistics   \n",
              "35            Katelyn     Wagenheim                        Computer Science   \n",
              "39               Eric          Mott  Agricultural and Medical Biotechnology   \n",
              "41             Chavay         Saman                            Neuroscience   \n",
              "42              Helen      Umenweke                   Biology and Chemistry   \n",
              "\n",
              "        Education                                      Is_researcher  \\\n",
              "1   Undergraduate                                                 No   \n",
              "2   Undergraduate                                                 No   \n",
              "6   Undergraduate  Yes - If yes, please describe your research in...   \n",
              "9   Undergraduate                                                 No   \n",
              "11    High school                                                 No   \n",
              "12    High school                                                 No   \n",
              "15       Graduate  Yes - If yes, please describe your research in...   \n",
              "16       Graduate                                                 No   \n",
              "17  Undergraduate  Yes - If yes, please describe your research in...   \n",
              "18  Undergraduate  Yes - If yes, please describe your research in...   \n",
              "19  Undergraduate                                                 No   \n",
              "22       Graduate                                                 No   \n",
              "25  Undergraduate  Yes - If yes, please describe your research in...   \n",
              "28       Graduate                                                 No   \n",
              "29       Graduate  Yes - If yes, please describe your research in...   \n",
              "30  Undergraduate                                                 No   \n",
              "31  Undergraduate  Yes - If yes, please describe your research in...   \n",
              "32       Graduate  Yes - If yes, please describe your research in...   \n",
              "35  Undergraduate                                                 No   \n",
              "39  Undergraduate                                                 No   \n",
              "41  Undergraduate                                                 No   \n",
              "42  Undergraduate  Yes - If yes, please describe your research in...   \n",
              "\n",
              "   Is_programmer  \n",
              "1             No  \n",
              "2             No  \n",
              "6             No  \n",
              "9             No  \n",
              "11            No  \n",
              "12            No  \n",
              "15            No  \n",
              "16            No  \n",
              "17            No  \n",
              "18            No  \n",
              "19            No  \n",
              "22            No  \n",
              "25            No  \n",
              "28            No  \n",
              "29            No  \n",
              "30            No  \n",
              "31            No  \n",
              "32            No  \n",
              "35            No  \n",
              "39            No  \n",
              "41            No  \n",
              "42            No  "
            ],
            "text/html": [
              "\n",
              "  <div id=\"df-390faec7-1a67-4630-8b7e-20f1ad097149\">\n",
              "    <div class=\"colab-df-container\">\n",
              "      <div>\n",
              "<style scoped>\n",
              "    .dataframe tbody tr th:only-of-type {\n",
              "        vertical-align: middle;\n",
              "    }\n",
              "\n",
              "    .dataframe tbody tr th {\n",
              "        vertical-align: top;\n",
              "    }\n",
              "\n",
              "    .dataframe thead th {\n",
              "        text-align: right;\n",
              "    }\n",
              "</style>\n",
              "<table border=\"1\" class=\"dataframe\">\n",
              "  <thead>\n",
              "    <tr style=\"text-align: right;\">\n",
              "      <th></th>\n",
              "      <th>First_Name</th>\n",
              "      <th>Last_Name</th>\n",
              "      <th>Major</th>\n",
              "      <th>Education</th>\n",
              "      <th>Is_researcher</th>\n",
              "      <th>Is_programmer</th>\n",
              "    </tr>\n",
              "  </thead>\n",
              "  <tbody>\n",
              "    <tr>\n",
              "      <th>1</th>\n",
              "      <td>Mattie</td>\n",
              "      <td>Allen Thomas</td>\n",
              "      <td>Computer engineering</td>\n",
              "      <td>Undergraduate</td>\n",
              "      <td>No</td>\n",
              "      <td>No</td>\n",
              "    </tr>\n",
              "    <tr>\n",
              "      <th>2</th>\n",
              "      <td>Sarah</td>\n",
              "      <td>NaN</td>\n",
              "      <td>Chemical Engineering</td>\n",
              "      <td>Undergraduate</td>\n",
              "      <td>No</td>\n",
              "      <td>No</td>\n",
              "    </tr>\n",
              "    <tr>\n",
              "      <th>6</th>\n",
              "      <td>Chloe</td>\n",
              "      <td>Arpin</td>\n",
              "      <td>Biology and Chemistry</td>\n",
              "      <td>Undergraduate</td>\n",
              "      <td>Yes - If yes, please describe your research in...</td>\n",
              "      <td>No</td>\n",
              "    </tr>\n",
              "    <tr>\n",
              "      <th>9</th>\n",
              "      <td>Sindhura</td>\n",
              "      <td>Yang</td>\n",
              "      <td>Neuroscience</td>\n",
              "      <td>Undergraduate</td>\n",
              "      <td>No</td>\n",
              "      <td>No</td>\n",
              "    </tr>\n",
              "    <tr>\n",
              "      <th>11</th>\n",
              "      <td>Angel</td>\n",
              "      <td>Dotsey</td>\n",
              "      <td>Neuroscience</td>\n",
              "      <td>High school</td>\n",
              "      <td>No</td>\n",
              "      <td>No</td>\n",
              "    </tr>\n",
              "    <tr>\n",
              "      <th>12</th>\n",
              "      <td>Sourav</td>\n",
              "      <td>Rogers</td>\n",
              "      <td>NaN</td>\n",
              "      <td>High school</td>\n",
              "      <td>No</td>\n",
              "      <td>No</td>\n",
              "    </tr>\n",
              "    <tr>\n",
              "      <th>15</th>\n",
              "      <td>Jeremy</td>\n",
              "      <td>NaN</td>\n",
              "      <td>Chemistry</td>\n",
              "      <td>Graduate</td>\n",
              "      <td>Yes - If yes, please describe your research in...</td>\n",
              "      <td>No</td>\n",
              "    </tr>\n",
              "    <tr>\n",
              "      <th>16</th>\n",
              "      <td>Sophia</td>\n",
              "      <td>Choate</td>\n",
              "      <td>Linguistics</td>\n",
              "      <td>Graduate</td>\n",
              "      <td>No</td>\n",
              "      <td>No</td>\n",
              "    </tr>\n",
              "    <tr>\n",
              "      <th>17</th>\n",
              "      <td>Lauren</td>\n",
              "      <td>Rooks</td>\n",
              "      <td>Agricultural and Medical Biotechnology</td>\n",
              "      <td>Undergraduate</td>\n",
              "      <td>Yes - If yes, please describe your research in...</td>\n",
              "      <td>No</td>\n",
              "    </tr>\n",
              "    <tr>\n",
              "      <th>18</th>\n",
              "      <td>Great</td>\n",
              "      <td>Rios</td>\n",
              "      <td>Materials Engineering</td>\n",
              "      <td>Undergraduate</td>\n",
              "      <td>Yes - If yes, please describe your research in...</td>\n",
              "      <td>No</td>\n",
              "    </tr>\n",
              "    <tr>\n",
              "      <th>19</th>\n",
              "      <td>Leighanne</td>\n",
              "      <td>Havard</td>\n",
              "      <td>Biology</td>\n",
              "      <td>Undergraduate</td>\n",
              "      <td>No</td>\n",
              "      <td>No</td>\n",
              "    </tr>\n",
              "    <tr>\n",
              "      <th>22</th>\n",
              "      <td>Devan</td>\n",
              "      <td>Parris</td>\n",
              "      <td>MBA/Leadership</td>\n",
              "      <td>Graduate</td>\n",
              "      <td>No</td>\n",
              "      <td>No</td>\n",
              "    </tr>\n",
              "    <tr>\n",
              "      <th>25</th>\n",
              "      <td>Ana</td>\n",
              "      <td>Mitchell</td>\n",
              "      <td>Political Science and Economics</td>\n",
              "      <td>Undergraduate</td>\n",
              "      <td>Yes - If yes, please describe your research in...</td>\n",
              "      <td>No</td>\n",
              "    </tr>\n",
              "    <tr>\n",
              "      <th>28</th>\n",
              "      <td>Christian Dzidula</td>\n",
              "      <td>Brentzel</td>\n",
              "      <td>Medicine</td>\n",
              "      <td>Graduate</td>\n",
              "      <td>No</td>\n",
              "      <td>No</td>\n",
              "    </tr>\n",
              "    <tr>\n",
              "      <th>29</th>\n",
              "      <td>Khamil</td>\n",
              "      <td>Kwenga</td>\n",
              "      <td>Chemistry</td>\n",
              "      <td>Graduate</td>\n",
              "      <td>Yes - If yes, please describe your research in...</td>\n",
              "      <td>No</td>\n",
              "    </tr>\n",
              "    <tr>\n",
              "      <th>30</th>\n",
              "      <td>Rosbelly</td>\n",
              "      <td>Yang</td>\n",
              "      <td>Neuroscience</td>\n",
              "      <td>Undergraduate</td>\n",
              "      <td>No</td>\n",
              "      <td>No</td>\n",
              "    </tr>\n",
              "    <tr>\n",
              "      <th>31</th>\n",
              "      <td>Mary</td>\n",
              "      <td>Sampaio</td>\n",
              "      <td>Agricultural and Medical Biotechnology</td>\n",
              "      <td>Undergraduate</td>\n",
              "      <td>Yes - If yes, please describe your research in...</td>\n",
              "      <td>No</td>\n",
              "    </tr>\n",
              "    <tr>\n",
              "      <th>32</th>\n",
              "      <td>Charis</td>\n",
              "      <td>Winstead</td>\n",
              "      <td>Linguistics</td>\n",
              "      <td>Graduate</td>\n",
              "      <td>Yes - If yes, please describe your research in...</td>\n",
              "      <td>No</td>\n",
              "    </tr>\n",
              "    <tr>\n",
              "      <th>35</th>\n",
              "      <td>Katelyn</td>\n",
              "      <td>Wagenheim</td>\n",
              "      <td>Computer Science</td>\n",
              "      <td>Undergraduate</td>\n",
              "      <td>No</td>\n",
              "      <td>No</td>\n",
              "    </tr>\n",
              "    <tr>\n",
              "      <th>39</th>\n",
              "      <td>Eric</td>\n",
              "      <td>Mott</td>\n",
              "      <td>Agricultural and Medical Biotechnology</td>\n",
              "      <td>Undergraduate</td>\n",
              "      <td>No</td>\n",
              "      <td>No</td>\n",
              "    </tr>\n",
              "    <tr>\n",
              "      <th>41</th>\n",
              "      <td>Chavay</td>\n",
              "      <td>Saman</td>\n",
              "      <td>Neuroscience</td>\n",
              "      <td>Undergraduate</td>\n",
              "      <td>No</td>\n",
              "      <td>No</td>\n",
              "    </tr>\n",
              "    <tr>\n",
              "      <th>42</th>\n",
              "      <td>Helen</td>\n",
              "      <td>Umenweke</td>\n",
              "      <td>Biology and Chemistry</td>\n",
              "      <td>Undergraduate</td>\n",
              "      <td>Yes - If yes, please describe your research in...</td>\n",
              "      <td>No</td>\n",
              "    </tr>\n",
              "  </tbody>\n",
              "</table>\n",
              "</div>\n",
              "      <button class=\"colab-df-convert\" onclick=\"convertToInteractive('df-390faec7-1a67-4630-8b7e-20f1ad097149')\"\n",
              "              title=\"Convert this dataframe to an interactive table.\"\n",
              "              style=\"display:none;\">\n",
              "        \n",
              "  <svg xmlns=\"http://www.w3.org/2000/svg\" height=\"24px\"viewBox=\"0 0 24 24\"\n",
              "       width=\"24px\">\n",
              "    <path d=\"M0 0h24v24H0V0z\" fill=\"none\"/>\n",
              "    <path d=\"M18.56 5.44l.94 2.06.94-2.06 2.06-.94-2.06-.94-.94-2.06-.94 2.06-2.06.94zm-11 1L8.5 8.5l.94-2.06 2.06-.94-2.06-.94L8.5 2.5l-.94 2.06-2.06.94zm10 10l.94 2.06.94-2.06 2.06-.94-2.06-.94-.94-2.06-.94 2.06-2.06.94z\"/><path d=\"M17.41 7.96l-1.37-1.37c-.4-.4-.92-.59-1.43-.59-.52 0-1.04.2-1.43.59L10.3 9.45l-7.72 7.72c-.78.78-.78 2.05 0 2.83L4 21.41c.39.39.9.59 1.41.59.51 0 1.02-.2 1.41-.59l7.78-7.78 2.81-2.81c.8-.78.8-2.07 0-2.86zM5.41 20L4 18.59l7.72-7.72 1.47 1.35L5.41 20z\"/>\n",
              "  </svg>\n",
              "      </button>\n",
              "      \n",
              "  <style>\n",
              "    .colab-df-container {\n",
              "      display:flex;\n",
              "      flex-wrap:wrap;\n",
              "      gap: 12px;\n",
              "    }\n",
              "\n",
              "    .colab-df-convert {\n",
              "      background-color: #E8F0FE;\n",
              "      border: none;\n",
              "      border-radius: 50%;\n",
              "      cursor: pointer;\n",
              "      display: none;\n",
              "      fill: #1967D2;\n",
              "      height: 32px;\n",
              "      padding: 0 0 0 0;\n",
              "      width: 32px;\n",
              "    }\n",
              "\n",
              "    .colab-df-convert:hover {\n",
              "      background-color: #E2EBFA;\n",
              "      box-shadow: 0px 1px 2px rgba(60, 64, 67, 0.3), 0px 1px 3px 1px rgba(60, 64, 67, 0.15);\n",
              "      fill: #174EA6;\n",
              "    }\n",
              "\n",
              "    [theme=dark] .colab-df-convert {\n",
              "      background-color: #3B4455;\n",
              "      fill: #D2E3FC;\n",
              "    }\n",
              "\n",
              "    [theme=dark] .colab-df-convert:hover {\n",
              "      background-color: #434B5C;\n",
              "      box-shadow: 0px 1px 3px 1px rgba(0, 0, 0, 0.15);\n",
              "      filter: drop-shadow(0px 1px 2px rgba(0, 0, 0, 0.3));\n",
              "      fill: #FFFFFF;\n",
              "    }\n",
              "  </style>\n",
              "\n",
              "      <script>\n",
              "        const buttonEl =\n",
              "          document.querySelector('#df-390faec7-1a67-4630-8b7e-20f1ad097149 button.colab-df-convert');\n",
              "        buttonEl.style.display =\n",
              "          google.colab.kernel.accessAllowed ? 'block' : 'none';\n",
              "\n",
              "        async function convertToInteractive(key) {\n",
              "          const element = document.querySelector('#df-390faec7-1a67-4630-8b7e-20f1ad097149');\n",
              "          const dataTable =\n",
              "            await google.colab.kernel.invokeFunction('convertToInteractive',\n",
              "                                                     [key], {});\n",
              "          if (!dataTable) return;\n",
              "\n",
              "          const docLinkHtml = 'Like what you see? Visit the ' +\n",
              "            '<a target=\"_blank\" href=https://colab.research.google.com/notebooks/data_table.ipynb>data table notebook</a>'\n",
              "            + ' to learn more about interactive tables.';\n",
              "          element.innerHTML = '';\n",
              "          dataTable['output_type'] = 'display_data';\n",
              "          await google.colab.output.renderOutput(dataTable, element);\n",
              "          const docLink = document.createElement('div');\n",
              "          docLink.innerHTML = docLinkHtml;\n",
              "          element.appendChild(docLink);\n",
              "        }\n",
              "      </script>\n",
              "    </div>\n",
              "  </div>\n",
              "  "
            ]
          },
          "metadata": {},
          "execution_count": 23
        }
      ]
    },
    {
      "cell_type": "markdown",
      "source": [
        "There are several methods available for a DataFrame and Series. Use *dir* on the DataFrame object to list the methods"
      ],
      "metadata": {
        "id": "W835A_-irZ_-"
      }
    },
    {
      "cell_type": "code",
      "source": [
        "# Let's use the count method to find the number of entries in the not_programmer dataframe\n",
        "not_programmer.count()"
      ],
      "metadata": {
        "colab": {
          "base_uri": "https://localhost:8080/"
        },
        "id": "p63nAB4xrQxx",
        "outputId": "9679d66c-4c05-4a42-e105-79c80a25605f"
      },
      "execution_count": null,
      "outputs": [
        {
          "output_type": "execute_result",
          "data": {
            "text/plain": [
              "First_Name       22\n",
              "Last_Name        20\n",
              "Major            21\n",
              "Education        22\n",
              "Is_researcher    22\n",
              "Is_programmer    22\n",
              "dtype: int64"
            ]
          },
          "metadata": {},
          "execution_count": 25
        }
      ]
    },
    {
      "cell_type": "markdown",
      "source": [
        "##**EXERCISE**"
      ],
      "metadata": {
        "id": "agRsQ_vns6xK"
      }
    },
    {
      "cell_type": "markdown",
      "source": [
        "Using the dataframe 'df', create a new dataframe without any NaN values. (Hint: Use dropna). Then with the new dataframe, get participants who are undergraduates\n"
      ],
      "metadata": {
        "id": "MntEEXlBs-Bj"
      }
    },
    {
      "cell_type": "code",
      "source": [
        "# Create the clean dataframe with dropna\n",
        "clean_df = # YOUR CODE HERE\n",
        "\n",
        "# Use groupby on Education\n",
        "education_group = # YOUR CODE HERE\n",
        "\n",
        "\n",
        "# Get group of Undergraduate\n",
        "undergraduates = # YOUR CODE HERE\n"
      ],
      "metadata": {
        "colab": {
          "base_uri": "https://localhost:8080/"
        },
        "id": "MuAjH8vsr4sd",
        "outputId": "c621459c-2dad-4e16-d851-be30f4ba8641"
      },
      "execution_count": null,
      "outputs": [
        {
          "output_type": "execute_result",
          "data": {
            "text/plain": [
              "43"
            ]
          },
          "metadata": {},
          "execution_count": 36
        }
      ]
    },
    {
      "cell_type": "markdown",
      "source": [
        "Get list of participants how are Graduates and non-programmers.\n",
        "\n",
        "Hint: Use a tuple of arguments (\"Education\",\"Is_programmer\") in groupby instead of a single argument we use before. To get the group of graduates and non-programmers, use the corresponding labels as a tuple (\"Graduate\",\"No\")"
      ],
      "metadata": {
        "id": "esWCiKkPuJpb"
      }
    },
    {
      "cell_type": "code",
      "source": [
        "# YOUR CODE HERE"
      ],
      "metadata": {
        "id": "hS6QjwIOsLIg"
      },
      "execution_count": null,
      "outputs": []
    },
    {
      "cell_type": "markdown",
      "source": [
        "## **Saving the dataframe**\n",
        "\n",
        "We will save the s block dataframe as a CSV file. The format can be excel too."
      ],
      "metadata": {
        "id": "_mUfn3Tru8ID"
      }
    },
    {
      "cell_type": "code",
      "source": [
        "not_programmer.to_csv(\"non_programmers.csv\")"
      ],
      "metadata": {
        "id": "CmASYKHvu4WE"
      },
      "execution_count": null,
      "outputs": []
    },
    {
      "cell_type": "markdown",
      "source": [
        "# Submit your project description by the end of the session. Use [this link]( https://forms.gle/y2epBvwr84Pc4mS38)"
      ],
      "metadata": {
        "id": "Yijl193M7xlG"
      }
    },
    {
      "cell_type": "code",
      "source": [],
      "metadata": {
        "id": "imBYrkFi7yGw"
      },
      "execution_count": null,
      "outputs": []
    }
  ]
}